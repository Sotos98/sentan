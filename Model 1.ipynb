{
 "cells": [
  {
   "cell_type": "markdown",
   "id": "19e61f52",
   "metadata": {},
   "source": [
    "### Machine Learning and Contect Analytics\n",
    "\n",
    "MSc in Business Analytics\n",
    "\n",
    "Department of Managment Science & Technology\n",
    "\n",
    "Athens University of Economics and Business\n",
    "\n",
    "#### Authors\n",
    "* Alvanou Marianna, ΑΜ: p2822201\n",
    "* Vlachakis Sotirios, ΑΜ: p2822228"
   ]
  },
  {
   "cell_type": "markdown",
   "id": "90477831",
   "metadata": {},
   "source": [
    "# Model 1 ~ Feed Forward Network"
   ]
  },
  {
   "cell_type": "markdown",
   "id": "dace43dc",
   "metadata": {},
   "source": [
    "### Loading dataset"
   ]
  },
  {
   "cell_type": "code",
   "execution_count": 1,
   "id": "328b2b1c",
   "metadata": {
    "scrolled": true
   },
   "outputs": [],
   "source": [
    "import pandas as pd\n",
    "from collections import Counter\n",
    "import numpy as np\n",
    "import matplotlib.pyplot as plt\n",
    "from IPython.display import Image\n",
    "from IPython.core.display import HTML \n",
    "\n",
    "%matplotlib inline"
   ]
  },
  {
   "cell_type": "code",
   "execution_count": 2,
   "id": "720dcb65",
   "metadata": {
    "scrolled": false
   },
   "outputs": [
    {
     "data": {
      "text/html": [
       "<div>\n",
       "<style scoped>\n",
       "    .dataframe tbody tr th:only-of-type {\n",
       "        vertical-align: middle;\n",
       "    }\n",
       "\n",
       "    .dataframe tbody tr th {\n",
       "        vertical-align: top;\n",
       "    }\n",
       "\n",
       "    .dataframe thead th {\n",
       "        text-align: right;\n",
       "    }\n",
       "</style>\n",
       "<table border=\"1\" class=\"dataframe\">\n",
       "  <thead>\n",
       "    <tr style=\"text-align: right;\">\n",
       "      <th></th>\n",
       "      <th>Brand</th>\n",
       "      <th>Comments</th>\n",
       "      <th>NPS_Label</th>\n",
       "    </tr>\n",
       "  </thead>\n",
       "  <tbody>\n",
       "    <tr>\n",
       "      <th>1822</th>\n",
       "      <td>10</td>\n",
       "      <td>εξαιρετικοι συνεργατεσ</td>\n",
       "      <td>Positive</td>\n",
       "    </tr>\n",
       "    <tr>\n",
       "      <th>7536</th>\n",
       "      <td>10</td>\n",
       "      <td>ειλικρινεια γνωση και αμεση ανταποκριση με χαμ...</td>\n",
       "      <td>Positive</td>\n",
       "    </tr>\n",
       "    <tr>\n",
       "      <th>7163</th>\n",
       "      <td>7</td>\n",
       "      <td>δεν λύθηκε το πρόβλημα αλλά φέρει ευθύνη ο οτε...</td>\n",
       "      <td>Neutral</td>\n",
       "    </tr>\n",
       "    <tr>\n",
       "      <th>10314</th>\n",
       "      <td>9</td>\n",
       "      <td>αμεσοτητα απαντησησ, ευγενεια εκπροσωπου</td>\n",
       "      <td>Positive</td>\n",
       "    </tr>\n",
       "    <tr>\n",
       "      <th>9055</th>\n",
       "      <td>4</td>\n",
       "      <td>ελλειψη αξιοπιστιασ. αναμενω ακομα ενημερωση α...</td>\n",
       "      <td>Negative</td>\n",
       "    </tr>\n",
       "  </tbody>\n",
       "</table>\n",
       "</div>"
      ],
      "text/plain": [
       "       Brand                                           Comments NPS_Label\n",
       "1822      10                             εξαιρετικοι συνεργατεσ  Positive\n",
       "7536      10  ειλικρινεια γνωση και αμεση ανταποκριση με χαμ...  Positive\n",
       "7163       7  δεν λύθηκε το πρόβλημα αλλά φέρει ευθύνη ο οτε...   Neutral\n",
       "10314      9           αμεσοτητα απαντησησ, ευγενεια εκπροσωπου  Positive\n",
       "9055       4  ελλειψη αξιοπιστιασ. αναμενω ακομα ενημερωση α...  Negative"
      ]
     },
     "execution_count": 2,
     "metadata": {},
     "output_type": "execute_result"
    }
   ],
   "source": [
    "df = pd.read_excel(\"C:\\\\Users\\\\mario\\\\Downloads\\\\data_cleaning.xlsx\" , usecols = ['Brand', 'Comments', 'NPS_Label'])\n",
    "\n",
    "df.sample(5)"
   ]
  },
  {
   "cell_type": "code",
   "execution_count": 3,
   "id": "c9b50bf4",
   "metadata": {},
   "outputs": [],
   "source": [
    "def nps_new(nps):\n",
    "        if nps == 'Positive':\n",
    "            return 0\n",
    "        elif nps == 'Neutral':\n",
    "            return 1\n",
    "        else:\n",
    "            return 2"
   ]
  },
  {
   "cell_type": "code",
   "execution_count": 4,
   "id": "0853e988",
   "metadata": {},
   "outputs": [],
   "source": [
    "# Net Promoter Score\n",
    "\n",
    "df['NPS_encoded'] = df['NPS_Label'].apply(nps_new)"
   ]
  },
  {
   "cell_type": "markdown",
   "id": "58788d53",
   "metadata": {},
   "source": [
    "#### Splitting Dataset Procedure"
   ]
  },
  {
   "cell_type": "code",
   "execution_count": 5,
   "id": "634cc023",
   "metadata": {},
   "outputs": [],
   "source": [
    "from sklearn.preprocessing import OneHotEncoder\n",
    "from sklearn.model_selection import train_test_split"
   ]
  },
  {
   "cell_type": "code",
   "execution_count": 6,
   "id": "911bc1a1",
   "metadata": {},
   "outputs": [],
   "source": [
    "x = df['Comments']\n",
    "y = df['NPS_encoded']"
   ]
  },
  {
   "cell_type": "code",
   "execution_count": 7,
   "id": "b6f292f6",
   "metadata": {},
   "outputs": [],
   "source": [
    "# Split the dataset into train - validation and test\n",
    "\n",
    "X_train_val, X_test, y_train_val, y_test = train_test_split(x, y, test_size=0.2, random_state=42, stratify=y) "
   ]
  },
  {
   "cell_type": "code",
   "execution_count": 8,
   "id": "af0adde9",
   "metadata": {},
   "outputs": [
    {
     "data": {
      "text/plain": [
       "12729    δεν εχει ολοκληρωθει η εγκρισησ που μου επροτα...\n",
       "648            ευγενικός και εξυπηρετικός ο εκπρόσωπος σας\n",
       "5939                                   αμεση εξυπηρετηση..\n",
       "8231                                              ευγενεια\n",
       "840      η αμεση εξυπηρετηση απο το προσωπικο σασ και η...\n",
       "Name: Comments, dtype: object"
      ]
     },
     "execution_count": 8,
     "metadata": {},
     "output_type": "execute_result"
    }
   ],
   "source": [
    "X_train_val.head()"
   ]
  },
  {
   "cell_type": "code",
   "execution_count": 9,
   "id": "32523d9c",
   "metadata": {},
   "outputs": [],
   "source": [
    "# Split the dataset into Train and Validation\n",
    "\n",
    "X_train, X_val, y_train, y_val = train_test_split(X_train_val, y_train_val, test_size=0.15,\n",
    "                                                  random_state=42, stratify=y_train_val)"
   ]
  },
  {
   "cell_type": "code",
   "execution_count": 10,
   "id": "11038449",
   "metadata": {},
   "outputs": [
    {
     "name": "stdout",
     "output_type": "stream",
     "text": [
      "X_train_val shape: (11941,)\n",
      "y_train_val shape: (11941,)\n",
      "\n",
      "X_train shape: (10149,)\n",
      "y_train shape: (10149,)\n",
      "\n",
      "X_val shape: (1792,)\n",
      "y_val shape: (1792,)\n",
      "\n",
      "X_test shape: (2986,)\n",
      "y_test shape: (2986,)\n"
     ]
    }
   ],
   "source": [
    "print(f'X_train_val shape: {X_train_val.shape}')\n",
    "print(f'y_train_val shape: {y_train_val.shape}')\n",
    "print()\n",
    "\n",
    "print(f'X_train shape: {X_train.shape}')\n",
    "print(f'y_train shape: {y_train.shape}')\n",
    "print()\n",
    "\n",
    "print(f'X_val shape: {X_val.shape}')\n",
    "print(f'y_val shape: {y_val.shape}')\n",
    "\n",
    "print()\n",
    "print(f'X_test shape: {X_test.shape}')\n",
    "print(f'y_test shape: {y_test.shape}')"
   ]
  },
  {
   "cell_type": "code",
   "execution_count": 11,
   "id": "a49e8f63",
   "metadata": {},
   "outputs": [
    {
     "data": {
      "text/plain": [
       "array([0.43444202, 3.26859903, 2.54935946])"
      ]
     },
     "execution_count": 11,
     "metadata": {},
     "output_type": "execute_result"
    }
   ],
   "source": [
    "import numpy as np\n",
    "from sklearn.utils import class_weight\n",
    "\n",
    "class_weights = class_weight.compute_class_weight('balanced',\n",
    "                                                 classes=np.unique(y_train),\n",
    "                                                 y=y_train)\n",
    "class_weights"
   ]
  },
  {
   "cell_type": "markdown",
   "id": "d3bb7a7d",
   "metadata": {},
   "source": [
    "### Label Encoding"
   ]
  },
  {
   "cell_type": "code",
   "execution_count": 12,
   "id": "935c52b4",
   "metadata": {},
   "outputs": [
    {
     "data": {
      "text/html": [
       "<style>#sk-container-id-1 {color: black;background-color: white;}#sk-container-id-1 pre{padding: 0;}#sk-container-id-1 div.sk-toggleable {background-color: white;}#sk-container-id-1 label.sk-toggleable__label {cursor: pointer;display: block;width: 100%;margin-bottom: 0;padding: 0.3em;box-sizing: border-box;text-align: center;}#sk-container-id-1 label.sk-toggleable__label-arrow:before {content: \"▸\";float: left;margin-right: 0.25em;color: #696969;}#sk-container-id-1 label.sk-toggleable__label-arrow:hover:before {color: black;}#sk-container-id-1 div.sk-estimator:hover label.sk-toggleable__label-arrow:before {color: black;}#sk-container-id-1 div.sk-toggleable__content {max-height: 0;max-width: 0;overflow: hidden;text-align: left;background-color: #f0f8ff;}#sk-container-id-1 div.sk-toggleable__content pre {margin: 0.2em;color: black;border-radius: 0.25em;background-color: #f0f8ff;}#sk-container-id-1 input.sk-toggleable__control:checked~div.sk-toggleable__content {max-height: 200px;max-width: 100%;overflow: auto;}#sk-container-id-1 input.sk-toggleable__control:checked~label.sk-toggleable__label-arrow:before {content: \"▾\";}#sk-container-id-1 div.sk-estimator input.sk-toggleable__control:checked~label.sk-toggleable__label {background-color: #d4ebff;}#sk-container-id-1 div.sk-label input.sk-toggleable__control:checked~label.sk-toggleable__label {background-color: #d4ebff;}#sk-container-id-1 input.sk-hidden--visually {border: 0;clip: rect(1px 1px 1px 1px);clip: rect(1px, 1px, 1px, 1px);height: 1px;margin: -1px;overflow: hidden;padding: 0;position: absolute;width: 1px;}#sk-container-id-1 div.sk-estimator {font-family: monospace;background-color: #f0f8ff;border: 1px dotted black;border-radius: 0.25em;box-sizing: border-box;margin-bottom: 0.5em;}#sk-container-id-1 div.sk-estimator:hover {background-color: #d4ebff;}#sk-container-id-1 div.sk-parallel-item::after {content: \"\";width: 100%;border-bottom: 1px solid gray;flex-grow: 1;}#sk-container-id-1 div.sk-label:hover label.sk-toggleable__label {background-color: #d4ebff;}#sk-container-id-1 div.sk-serial::before {content: \"\";position: absolute;border-left: 1px solid gray;box-sizing: border-box;top: 0;bottom: 0;left: 50%;z-index: 0;}#sk-container-id-1 div.sk-serial {display: flex;flex-direction: column;align-items: center;background-color: white;padding-right: 0.2em;padding-left: 0.2em;position: relative;}#sk-container-id-1 div.sk-item {position: relative;z-index: 1;}#sk-container-id-1 div.sk-parallel {display: flex;align-items: stretch;justify-content: center;background-color: white;position: relative;}#sk-container-id-1 div.sk-item::before, #sk-container-id-1 div.sk-parallel-item::before {content: \"\";position: absolute;border-left: 1px solid gray;box-sizing: border-box;top: 0;bottom: 0;left: 50%;z-index: -1;}#sk-container-id-1 div.sk-parallel-item {display: flex;flex-direction: column;z-index: 1;position: relative;background-color: white;}#sk-container-id-1 div.sk-parallel-item:first-child::after {align-self: flex-end;width: 50%;}#sk-container-id-1 div.sk-parallel-item:last-child::after {align-self: flex-start;width: 50%;}#sk-container-id-1 div.sk-parallel-item:only-child::after {width: 0;}#sk-container-id-1 div.sk-dashed-wrapped {border: 1px dashed gray;margin: 0 0.4em 0.5em 0.4em;box-sizing: border-box;padding-bottom: 0.4em;background-color: white;}#sk-container-id-1 div.sk-label label {font-family: monospace;font-weight: bold;display: inline-block;line-height: 1.2em;}#sk-container-id-1 div.sk-label-container {text-align: center;}#sk-container-id-1 div.sk-container {/* jupyter's `normalize.less` sets `[hidden] { display: none; }` but bootstrap.min.css set `[hidden] { display: none !important; }` so we also need the `!important` here to be able to override the default hidden behavior on the sphinx rendered scikit-learn.org. See: https://github.com/scikit-learn/scikit-learn/issues/21755 */display: inline-block !important;position: relative;}#sk-container-id-1 div.sk-text-repr-fallback {display: none;}</style><div id=\"sk-container-id-1\" class=\"sk-top-container\"><div class=\"sk-text-repr-fallback\"><pre>OneHotEncoder(sparse_output=False)</pre><b>In a Jupyter environment, please rerun this cell to show the HTML representation or trust the notebook. <br />On GitHub, the HTML representation is unable to render, please try loading this page with nbviewer.org.</b></div><div class=\"sk-container\" hidden><div class=\"sk-item\"><div class=\"sk-estimator sk-toggleable\"><input class=\"sk-toggleable__control sk-hidden--visually\" id=\"sk-estimator-id-1\" type=\"checkbox\" checked><label for=\"sk-estimator-id-1\" class=\"sk-toggleable__label sk-toggleable__label-arrow\">OneHotEncoder</label><div class=\"sk-toggleable__content\"><pre>OneHotEncoder(sparse_output=False)</pre></div></div></div></div></div>"
      ],
      "text/plain": [
       "OneHotEncoder(sparse_output=False)"
      ]
     },
     "execution_count": 12,
     "metadata": {},
     "output_type": "execute_result"
    }
   ],
   "source": [
    "# Encoding the labels using a One-Hot Encoder\n",
    "y_enc = OneHotEncoder(sparse_output=False)\n",
    "y_enc"
   ]
  },
  {
   "cell_type": "code",
   "execution_count": 13,
   "id": "ac0d5213",
   "metadata": {
    "scrolled": true
   },
   "outputs": [
    {
     "data": {
      "text/plain": [
       "array([[1., 0., 0.],\n",
       "       [1., 0., 0.],\n",
       "       [1., 0., 0.],\n",
       "       ...,\n",
       "       [1., 0., 0.],\n",
       "       [1., 0., 0.],\n",
       "       [1., 0., 0.]])"
      ]
     },
     "execution_count": 13,
     "metadata": {},
     "output_type": "execute_result"
    }
   ],
   "source": [
    "y_train_enc = y_enc.fit_transform(y_train.values.reshape(-1, 1))\n",
    "y_train_enc"
   ]
  },
  {
   "cell_type": "code",
   "execution_count": 14,
   "id": "6d2eeccb",
   "metadata": {},
   "outputs": [],
   "source": [
    "y_val_enc = y_enc.transform(y_val.values.reshape(-1, 1))\n",
    "y_test_enc = y_enc.transform(y_test.values.reshape(-1, 1))"
   ]
  },
  {
   "cell_type": "code",
   "execution_count": 15,
   "id": "73e7cfc4",
   "metadata": {},
   "outputs": [
    {
     "name": "stdout",
     "output_type": "stream",
     "text": [
      "y_train shape: (10149, 3)\n",
      "y_val shape: (1792, 3)\n",
      "y_test shape: (2986, 3)\n"
     ]
    }
   ],
   "source": [
    "print(f'y_train shape: {y_train_enc.shape}')\n",
    "print(f'y_val shape: {y_val_enc.shape}')\n",
    "print(f'y_test shape: {y_test_enc.shape}')"
   ]
  },
  {
   "cell_type": "code",
   "execution_count": 16,
   "id": "66fa106e",
   "metadata": {},
   "outputs": [
    {
     "name": "stdout",
     "output_type": "stream",
     "text": [
      "Encoder Categories: [array([0, 1, 2], dtype=int64)]\n"
     ]
    }
   ],
   "source": [
    "print('Encoder Categories:',y_enc.categories_)"
   ]
  },
  {
   "cell_type": "code",
   "execution_count": 17,
   "id": "66775e89",
   "metadata": {},
   "outputs": [
    {
     "data": {
      "text/html": [
       "<div>\n",
       "<style scoped>\n",
       "    .dataframe tbody tr th:only-of-type {\n",
       "        vertical-align: middle;\n",
       "    }\n",
       "\n",
       "    .dataframe tbody tr th {\n",
       "        vertical-align: top;\n",
       "    }\n",
       "\n",
       "    .dataframe thead th {\n",
       "        text-align: right;\n",
       "    }\n",
       "</style>\n",
       "<table border=\"1\" class=\"dataframe\">\n",
       "  <thead>\n",
       "    <tr style=\"text-align: right;\">\n",
       "      <th></th>\n",
       "      <th>0</th>\n",
       "      <th>1</th>\n",
       "      <th>2</th>\n",
       "    </tr>\n",
       "  </thead>\n",
       "  <tbody>\n",
       "    <tr>\n",
       "      <th>0</th>\n",
       "      <td>1.0</td>\n",
       "      <td>0.0</td>\n",
       "      <td>0.0</td>\n",
       "    </tr>\n",
       "    <tr>\n",
       "      <th>1</th>\n",
       "      <td>1.0</td>\n",
       "      <td>0.0</td>\n",
       "      <td>0.0</td>\n",
       "    </tr>\n",
       "    <tr>\n",
       "      <th>2</th>\n",
       "      <td>1.0</td>\n",
       "      <td>0.0</td>\n",
       "      <td>0.0</td>\n",
       "    </tr>\n",
       "    <tr>\n",
       "      <th>3</th>\n",
       "      <td>1.0</td>\n",
       "      <td>0.0</td>\n",
       "      <td>0.0</td>\n",
       "    </tr>\n",
       "    <tr>\n",
       "      <th>4</th>\n",
       "      <td>1.0</td>\n",
       "      <td>0.0</td>\n",
       "      <td>0.0</td>\n",
       "    </tr>\n",
       "    <tr>\n",
       "      <th>5</th>\n",
       "      <td>1.0</td>\n",
       "      <td>0.0</td>\n",
       "      <td>0.0</td>\n",
       "    </tr>\n",
       "    <tr>\n",
       "      <th>6</th>\n",
       "      <td>1.0</td>\n",
       "      <td>0.0</td>\n",
       "      <td>0.0</td>\n",
       "    </tr>\n",
       "    <tr>\n",
       "      <th>7</th>\n",
       "      <td>1.0</td>\n",
       "      <td>0.0</td>\n",
       "      <td>0.0</td>\n",
       "    </tr>\n",
       "    <tr>\n",
       "      <th>8</th>\n",
       "      <td>1.0</td>\n",
       "      <td>0.0</td>\n",
       "      <td>0.0</td>\n",
       "    </tr>\n",
       "    <tr>\n",
       "      <th>9</th>\n",
       "      <td>1.0</td>\n",
       "      <td>0.0</td>\n",
       "      <td>0.0</td>\n",
       "    </tr>\n",
       "  </tbody>\n",
       "</table>\n",
       "</div>"
      ],
      "text/plain": [
       "     0    1    2\n",
       "0  1.0  0.0  0.0\n",
       "1  1.0  0.0  0.0\n",
       "2  1.0  0.0  0.0\n",
       "3  1.0  0.0  0.0\n",
       "4  1.0  0.0  0.0\n",
       "5  1.0  0.0  0.0\n",
       "6  1.0  0.0  0.0\n",
       "7  1.0  0.0  0.0\n",
       "8  1.0  0.0  0.0\n",
       "9  1.0  0.0  0.0"
      ]
     },
     "execution_count": 17,
     "metadata": {},
     "output_type": "execute_result"
    }
   ],
   "source": [
    "# What the aforementioned code did:\n",
    "temp = pd.DataFrame(y_train_enc)\n",
    "temp.columns = list(y_enc.categories_[0])\n",
    "temp.head(10)"
   ]
  },
  {
   "cell_type": "code",
   "execution_count": 18,
   "id": "2e30866c",
   "metadata": {},
   "outputs": [],
   "source": [
    "def highlight_ones(s):\n",
    "    '''\n",
    "    highlight the number 1 in a Series yellow.\n",
    "    '''\n",
    "    is_max = s == 1\n",
    "    return ['background-color: yellow' if v else '' for v in is_max]"
   ]
  },
  {
   "cell_type": "code",
   "execution_count": 19,
   "id": "0ec5e8c7",
   "metadata": {},
   "outputs": [
    {
     "data": {
      "text/html": [
       "<style type=\"text/css\">\n",
       "#T_cb402_row0_col0, #T_cb402_row1_col0, #T_cb402_row2_col0, #T_cb402_row3_col0, #T_cb402_row4_col0, #T_cb402_row5_col0, #T_cb402_row6_col0, #T_cb402_row7_col0, #T_cb402_row8_col0, #T_cb402_row9_col0 {\n",
       "  background-color: yellow;\n",
       "}\n",
       "</style>\n",
       "<table id=\"T_cb402\">\n",
       "  <thead>\n",
       "    <tr>\n",
       "      <th class=\"blank level0\" >&nbsp;</th>\n",
       "      <th id=\"T_cb402_level0_col0\" class=\"col_heading level0 col0\" >0</th>\n",
       "      <th id=\"T_cb402_level0_col1\" class=\"col_heading level0 col1\" >1</th>\n",
       "      <th id=\"T_cb402_level0_col2\" class=\"col_heading level0 col2\" >2</th>\n",
       "    </tr>\n",
       "  </thead>\n",
       "  <tbody>\n",
       "    <tr>\n",
       "      <th id=\"T_cb402_level0_row0\" class=\"row_heading level0 row0\" >0</th>\n",
       "      <td id=\"T_cb402_row0_col0\" class=\"data row0 col0\" >1.000000</td>\n",
       "      <td id=\"T_cb402_row0_col1\" class=\"data row0 col1\" >0.000000</td>\n",
       "      <td id=\"T_cb402_row0_col2\" class=\"data row0 col2\" >0.000000</td>\n",
       "    </tr>\n",
       "    <tr>\n",
       "      <th id=\"T_cb402_level0_row1\" class=\"row_heading level0 row1\" >1</th>\n",
       "      <td id=\"T_cb402_row1_col0\" class=\"data row1 col0\" >1.000000</td>\n",
       "      <td id=\"T_cb402_row1_col1\" class=\"data row1 col1\" >0.000000</td>\n",
       "      <td id=\"T_cb402_row1_col2\" class=\"data row1 col2\" >0.000000</td>\n",
       "    </tr>\n",
       "    <tr>\n",
       "      <th id=\"T_cb402_level0_row2\" class=\"row_heading level0 row2\" >2</th>\n",
       "      <td id=\"T_cb402_row2_col0\" class=\"data row2 col0\" >1.000000</td>\n",
       "      <td id=\"T_cb402_row2_col1\" class=\"data row2 col1\" >0.000000</td>\n",
       "      <td id=\"T_cb402_row2_col2\" class=\"data row2 col2\" >0.000000</td>\n",
       "    </tr>\n",
       "    <tr>\n",
       "      <th id=\"T_cb402_level0_row3\" class=\"row_heading level0 row3\" >3</th>\n",
       "      <td id=\"T_cb402_row3_col0\" class=\"data row3 col0\" >1.000000</td>\n",
       "      <td id=\"T_cb402_row3_col1\" class=\"data row3 col1\" >0.000000</td>\n",
       "      <td id=\"T_cb402_row3_col2\" class=\"data row3 col2\" >0.000000</td>\n",
       "    </tr>\n",
       "    <tr>\n",
       "      <th id=\"T_cb402_level0_row4\" class=\"row_heading level0 row4\" >4</th>\n",
       "      <td id=\"T_cb402_row4_col0\" class=\"data row4 col0\" >1.000000</td>\n",
       "      <td id=\"T_cb402_row4_col1\" class=\"data row4 col1\" >0.000000</td>\n",
       "      <td id=\"T_cb402_row4_col2\" class=\"data row4 col2\" >0.000000</td>\n",
       "    </tr>\n",
       "    <tr>\n",
       "      <th id=\"T_cb402_level0_row5\" class=\"row_heading level0 row5\" >5</th>\n",
       "      <td id=\"T_cb402_row5_col0\" class=\"data row5 col0\" >1.000000</td>\n",
       "      <td id=\"T_cb402_row5_col1\" class=\"data row5 col1\" >0.000000</td>\n",
       "      <td id=\"T_cb402_row5_col2\" class=\"data row5 col2\" >0.000000</td>\n",
       "    </tr>\n",
       "    <tr>\n",
       "      <th id=\"T_cb402_level0_row6\" class=\"row_heading level0 row6\" >6</th>\n",
       "      <td id=\"T_cb402_row6_col0\" class=\"data row6 col0\" >1.000000</td>\n",
       "      <td id=\"T_cb402_row6_col1\" class=\"data row6 col1\" >0.000000</td>\n",
       "      <td id=\"T_cb402_row6_col2\" class=\"data row6 col2\" >0.000000</td>\n",
       "    </tr>\n",
       "    <tr>\n",
       "      <th id=\"T_cb402_level0_row7\" class=\"row_heading level0 row7\" >7</th>\n",
       "      <td id=\"T_cb402_row7_col0\" class=\"data row7 col0\" >1.000000</td>\n",
       "      <td id=\"T_cb402_row7_col1\" class=\"data row7 col1\" >0.000000</td>\n",
       "      <td id=\"T_cb402_row7_col2\" class=\"data row7 col2\" >0.000000</td>\n",
       "    </tr>\n",
       "    <tr>\n",
       "      <th id=\"T_cb402_level0_row8\" class=\"row_heading level0 row8\" >8</th>\n",
       "      <td id=\"T_cb402_row8_col0\" class=\"data row8 col0\" >1.000000</td>\n",
       "      <td id=\"T_cb402_row8_col1\" class=\"data row8 col1\" >0.000000</td>\n",
       "      <td id=\"T_cb402_row8_col2\" class=\"data row8 col2\" >0.000000</td>\n",
       "    </tr>\n",
       "    <tr>\n",
       "      <th id=\"T_cb402_level0_row9\" class=\"row_heading level0 row9\" >9</th>\n",
       "      <td id=\"T_cb402_row9_col0\" class=\"data row9 col0\" >1.000000</td>\n",
       "      <td id=\"T_cb402_row9_col1\" class=\"data row9 col1\" >0.000000</td>\n",
       "      <td id=\"T_cb402_row9_col2\" class=\"data row9 col2\" >0.000000</td>\n",
       "    </tr>\n",
       "  </tbody>\n",
       "</table>\n"
      ],
      "text/plain": [
       "<pandas.io.formats.style.Styler at 0x1dbac7a94f0>"
      ]
     },
     "execution_count": 19,
     "metadata": {},
     "output_type": "execute_result"
    }
   ],
   "source": [
    "temp.head(10).style.apply(highlight_ones)"
   ]
  },
  {
   "cell_type": "code",
   "execution_count": 20,
   "id": "cd5de99b",
   "metadata": {},
   "outputs": [
    {
     "data": {
      "text/plain": [
       "0    7787.0\n",
       "1    1035.0\n",
       "2    1327.0\n",
       "dtype: float64"
      ]
     },
     "execution_count": 20,
     "metadata": {},
     "output_type": "execute_result"
    }
   ],
   "source": [
    "temp.sum(axis=0).head(10)"
   ]
  },
  {
   "cell_type": "markdown",
   "id": "d245b45d",
   "metadata": {},
   "source": [
    "### Bag of Words"
   ]
  },
  {
   "cell_type": "code",
   "execution_count": 21,
   "id": "e3b002f2",
   "metadata": {},
   "outputs": [],
   "source": [
    "from sklearn.feature_extraction.text import CountVectorizer, TfidfVectorizer"
   ]
  },
  {
   "cell_type": "code",
   "execution_count": 22,
   "id": "5b3560e6",
   "metadata": {},
   "outputs": [
    {
     "name": "stdout",
     "output_type": "stream",
     "text": [
      "γρηγορη εξυπηρετηση. θα ηθελα ομωσ να με καλει μονο ο προσωπικοσ συμβουλοσ η το καταστημα κορινθου για νεα προγραμματα οχι απο ασχετα καταστηματα. την τελευταια φορα που ανανεωσα το προγραμμα δεν εμεινα ευχαριστημενη.\n",
      "αμεση  εξυπηρετηση\n"
     ]
    }
   ],
   "source": [
    "print(df['Comments'].iloc[111])\n",
    "print(df['Comments'].iloc[320])"
   ]
  },
  {
   "cell_type": "code",
   "execution_count": 23,
   "id": "3bb5320c",
   "metadata": {},
   "outputs": [
    {
     "data": {
      "text/plain": [
       "['αμεση εξυπηρετηση',\n",
       " 'ευγενεια -επαγγελματισμοσ',\n",
       " 'δυσκολευτηκα να βρω τον αρμοδιο εκπροσωπο που θα εκανε την ανανεωση των συμβολαιων',\n",
       " 'εχουμε συχνες διακοπες στο ιντερνετ αλλα κυριως στο τηλεφ χθεσ πχ η διακοπη κρατησε πανω απο 5 ωρες σημερα ειχα 3 διακοπες του τηλ αλλα για λιγα λεπτα η καθε φορα γενικα η κατασταση απαραδεκτη']"
      ]
     },
     "execution_count": 23,
     "metadata": {},
     "output_type": "execute_result"
    }
   ],
   "source": [
    "sample_sentences = [\n",
    "    'αμεση εξυπηρετηση', \n",
    "    'ευγενεια -επαγγελματισμοσ',\n",
    "    'δυσκολευτηκα να βρω τον αρμοδιο εκπροσωπο που θα εκανε την ανανεωση των συμβολαιων',\n",
    "    'εχουμε συχνες διακοπες στο ιντερνετ αλλα κυριως στο τηλεφ χθεσ πχ η διακοπη κρατησε πανω απο 5 ωρες σημερα ειχα 3 διακοπες του τηλ αλλα για λιγα λεπτα η καθε φορα γενικα η κατασταση απαραδεκτη'\n",
    "]\n",
    "sample_sentences"
   ]
  },
  {
   "cell_type": "code",
   "execution_count": 24,
   "id": "d0266b1b",
   "metadata": {},
   "outputs": [
    {
     "data": {
      "text/html": [
       "<style>#sk-container-id-2 {color: black;background-color: white;}#sk-container-id-2 pre{padding: 0;}#sk-container-id-2 div.sk-toggleable {background-color: white;}#sk-container-id-2 label.sk-toggleable__label {cursor: pointer;display: block;width: 100%;margin-bottom: 0;padding: 0.3em;box-sizing: border-box;text-align: center;}#sk-container-id-2 label.sk-toggleable__label-arrow:before {content: \"▸\";float: left;margin-right: 0.25em;color: #696969;}#sk-container-id-2 label.sk-toggleable__label-arrow:hover:before {color: black;}#sk-container-id-2 div.sk-estimator:hover label.sk-toggleable__label-arrow:before {color: black;}#sk-container-id-2 div.sk-toggleable__content {max-height: 0;max-width: 0;overflow: hidden;text-align: left;background-color: #f0f8ff;}#sk-container-id-2 div.sk-toggleable__content pre {margin: 0.2em;color: black;border-radius: 0.25em;background-color: #f0f8ff;}#sk-container-id-2 input.sk-toggleable__control:checked~div.sk-toggleable__content {max-height: 200px;max-width: 100%;overflow: auto;}#sk-container-id-2 input.sk-toggleable__control:checked~label.sk-toggleable__label-arrow:before {content: \"▾\";}#sk-container-id-2 div.sk-estimator input.sk-toggleable__control:checked~label.sk-toggleable__label {background-color: #d4ebff;}#sk-container-id-2 div.sk-label input.sk-toggleable__control:checked~label.sk-toggleable__label {background-color: #d4ebff;}#sk-container-id-2 input.sk-hidden--visually {border: 0;clip: rect(1px 1px 1px 1px);clip: rect(1px, 1px, 1px, 1px);height: 1px;margin: -1px;overflow: hidden;padding: 0;position: absolute;width: 1px;}#sk-container-id-2 div.sk-estimator {font-family: monospace;background-color: #f0f8ff;border: 1px dotted black;border-radius: 0.25em;box-sizing: border-box;margin-bottom: 0.5em;}#sk-container-id-2 div.sk-estimator:hover {background-color: #d4ebff;}#sk-container-id-2 div.sk-parallel-item::after {content: \"\";width: 100%;border-bottom: 1px solid gray;flex-grow: 1;}#sk-container-id-2 div.sk-label:hover label.sk-toggleable__label {background-color: #d4ebff;}#sk-container-id-2 div.sk-serial::before {content: \"\";position: absolute;border-left: 1px solid gray;box-sizing: border-box;top: 0;bottom: 0;left: 50%;z-index: 0;}#sk-container-id-2 div.sk-serial {display: flex;flex-direction: column;align-items: center;background-color: white;padding-right: 0.2em;padding-left: 0.2em;position: relative;}#sk-container-id-2 div.sk-item {position: relative;z-index: 1;}#sk-container-id-2 div.sk-parallel {display: flex;align-items: stretch;justify-content: center;background-color: white;position: relative;}#sk-container-id-2 div.sk-item::before, #sk-container-id-2 div.sk-parallel-item::before {content: \"\";position: absolute;border-left: 1px solid gray;box-sizing: border-box;top: 0;bottom: 0;left: 50%;z-index: -1;}#sk-container-id-2 div.sk-parallel-item {display: flex;flex-direction: column;z-index: 1;position: relative;background-color: white;}#sk-container-id-2 div.sk-parallel-item:first-child::after {align-self: flex-end;width: 50%;}#sk-container-id-2 div.sk-parallel-item:last-child::after {align-self: flex-start;width: 50%;}#sk-container-id-2 div.sk-parallel-item:only-child::after {width: 0;}#sk-container-id-2 div.sk-dashed-wrapped {border: 1px dashed gray;margin: 0 0.4em 0.5em 0.4em;box-sizing: border-box;padding-bottom: 0.4em;background-color: white;}#sk-container-id-2 div.sk-label label {font-family: monospace;font-weight: bold;display: inline-block;line-height: 1.2em;}#sk-container-id-2 div.sk-label-container {text-align: center;}#sk-container-id-2 div.sk-container {/* jupyter's `normalize.less` sets `[hidden] { display: none; }` but bootstrap.min.css set `[hidden] { display: none !important; }` so we also need the `!important` here to be able to override the default hidden behavior on the sphinx rendered scikit-learn.org. See: https://github.com/scikit-learn/scikit-learn/issues/21755 */display: inline-block !important;position: relative;}#sk-container-id-2 div.sk-text-repr-fallback {display: none;}</style><div id=\"sk-container-id-2\" class=\"sk-top-container\"><div class=\"sk-text-repr-fallback\"><pre>CountVectorizer()</pre><b>In a Jupyter environment, please rerun this cell to show the HTML representation or trust the notebook. <br />On GitHub, the HTML representation is unable to render, please try loading this page with nbviewer.org.</b></div><div class=\"sk-container\" hidden><div class=\"sk-item\"><div class=\"sk-estimator sk-toggleable\"><input class=\"sk-toggleable__control sk-hidden--visually\" id=\"sk-estimator-id-2\" type=\"checkbox\" checked><label for=\"sk-estimator-id-2\" class=\"sk-toggleable__label sk-toggleable__label-arrow\">CountVectorizer</label><div class=\"sk-toggleable__content\"><pre>CountVectorizer()</pre></div></div></div></div></div>"
      ],
      "text/plain": [
       "CountVectorizer()"
      ]
     },
     "execution_count": 24,
     "metadata": {},
     "output_type": "execute_result"
    }
   ],
   "source": [
    "sample_vect = CountVectorizer()\n",
    "\n",
    "sample_vect.fit(sample_sentences)"
   ]
  },
  {
   "cell_type": "code",
   "execution_count": 25,
   "id": "999ad3a4",
   "metadata": {},
   "outputs": [
    {
     "data": {
      "text/plain": [
       "<4x44 sparse matrix of type '<class 'numpy.int64'>'\n",
       "\twith 44 stored elements in Compressed Sparse Row format>"
      ]
     },
     "execution_count": 25,
     "metadata": {},
     "output_type": "execute_result"
    }
   ],
   "source": [
    "sample_sents_bow = sample_vect.transform(sample_sentences)\n",
    "# creates a sparse matrix\n",
    "sample_sents_bow"
   ]
  },
  {
   "cell_type": "code",
   "execution_count": 26,
   "id": "7e55a0e7",
   "metadata": {
    "scrolled": true
   },
   "outputs": [
    {
     "data": {
      "text/plain": [
       "array([[0, 1, 0, 0, 0, 0, 0, 0, 0, 0, 0, 0, 0, 0, 0, 1, 0, 0, 0, 0, 0, 0,\n",
       "        0, 0, 0, 0, 0, 0, 0, 0, 0, 0, 0, 0, 0, 0, 0, 0, 0, 0, 0, 0, 0, 0],\n",
       "       [0, 0, 0, 0, 0, 0, 0, 0, 0, 0, 0, 0, 0, 0, 0, 0, 1, 1, 0, 0, 0, 0,\n",
       "        0, 0, 0, 0, 0, 0, 0, 0, 0, 0, 0, 0, 0, 0, 0, 0, 0, 0, 0, 0, 0, 0],\n",
       "       [0, 0, 1, 0, 0, 1, 1, 0, 0, 0, 0, 1, 0, 1, 1, 0, 0, 0, 0, 1, 0, 0,\n",
       "        0, 0, 0, 0, 0, 1, 0, 1, 0, 0, 0, 1, 0, 0, 0, 1, 1, 0, 1, 0, 0, 0],\n",
       "       [2, 0, 0, 1, 1, 0, 0, 1, 1, 2, 1, 0, 1, 0, 0, 0, 0, 0, 1, 0, 1, 1,\n",
       "        1, 1, 1, 1, 1, 0, 1, 0, 1, 1, 2, 0, 1, 1, 1, 0, 0, 1, 0, 1, 1, 1]],\n",
       "      dtype=int64)"
      ]
     },
     "execution_count": 26,
     "metadata": {},
     "output_type": "execute_result"
    }
   ],
   "source": [
    "sample_sents_bow.toarray( ) #find how many times appear each word"
   ]
  },
  {
   "cell_type": "code",
   "execution_count": 27,
   "id": "8f6ee600",
   "metadata": {
    "scrolled": true
   },
   "outputs": [
    {
     "data": {
      "text/plain": [
       "{'αμεση': 1,\n",
       " 'εξυπηρετηση': 15,\n",
       " 'ευγενεια': 17,\n",
       " 'επαγγελματισμοσ': 16,\n",
       " 'δυσκολευτηκα': 11,\n",
       " 'να': 27,\n",
       " 'βρω': 6,\n",
       " 'τον': 38,\n",
       " 'αρμοδιο': 5,\n",
       " 'εκπροσωπο': 14,\n",
       " 'που': 29,\n",
       " 'θα': 19,\n",
       " 'εκανε': 13,\n",
       " 'την': 37,\n",
       " 'ανανεωση': 2,\n",
       " 'των': 40,\n",
       " 'συμβολαιων': 33,\n",
       " 'εχουμε': 18,\n",
       " 'συχνες': 34,\n",
       " 'διακοπες': 9,\n",
       " 'στο': 32,\n",
       " 'ιντερνετ': 20,\n",
       " 'αλλα': 0,\n",
       " 'κυριως': 24,\n",
       " 'τηλεφ': 36,\n",
       " 'χθεσ': 42,\n",
       " 'πχ': 30,\n",
       " 'διακοπη': 10,\n",
       " 'κρατησε': 23,\n",
       " 'πανω': 28,\n",
       " 'απο': 4,\n",
       " 'ωρες': 43,\n",
       " 'σημερα': 31,\n",
       " 'ειχα': 12,\n",
       " 'του': 39,\n",
       " 'τηλ': 35,\n",
       " 'για': 8,\n",
       " 'λιγα': 26,\n",
       " 'λεπτα': 25,\n",
       " 'καθε': 21,\n",
       " 'φορα': 41,\n",
       " 'γενικα': 7,\n",
       " 'κατασταση': 22,\n",
       " 'απαραδεκτη': 3}"
      ]
     },
     "execution_count": 27,
     "metadata": {},
     "output_type": "execute_result"
    }
   ],
   "source": [
    "sample_vect.vocabulary_ #find the ids of each word"
   ]
  },
  {
   "cell_type": "code",
   "execution_count": 28,
   "id": "b5eae803",
   "metadata": {
    "scrolled": true
   },
   "outputs": [
    {
     "data": {
      "text/html": [
       "<style type=\"text/css\">\n",
       "#T_f25cd_row0_col1, #T_f25cd_row0_col15, #T_f25cd_row1_col16, #T_f25cd_row1_col17, #T_f25cd_row2_col2, #T_f25cd_row2_col5, #T_f25cd_row2_col6, #T_f25cd_row2_col11, #T_f25cd_row2_col13, #T_f25cd_row2_col14, #T_f25cd_row2_col19, #T_f25cd_row2_col27, #T_f25cd_row2_col29, #T_f25cd_row2_col33, #T_f25cd_row2_col37, #T_f25cd_row2_col38, #T_f25cd_row2_col40, #T_f25cd_row3_col3, #T_f25cd_row3_col4, #T_f25cd_row3_col7, #T_f25cd_row3_col8, #T_f25cd_row3_col10, #T_f25cd_row3_col12, #T_f25cd_row3_col18, #T_f25cd_row3_col20, #T_f25cd_row3_col21, #T_f25cd_row3_col22, #T_f25cd_row3_col23, #T_f25cd_row3_col24, #T_f25cd_row3_col25, #T_f25cd_row3_col26, #T_f25cd_row3_col28, #T_f25cd_row3_col30, #T_f25cd_row3_col31, #T_f25cd_row3_col34, #T_f25cd_row3_col35, #T_f25cd_row3_col36, #T_f25cd_row3_col39, #T_f25cd_row3_col41, #T_f25cd_row3_col42, #T_f25cd_row3_col43 {\n",
       "  background-color: yellow;\n",
       "}\n",
       "</style>\n",
       "<table id=\"T_f25cd\">\n",
       "  <thead>\n",
       "    <tr>\n",
       "      <th class=\"blank level0\" >&nbsp;</th>\n",
       "      <th id=\"T_f25cd_level0_col0\" class=\"col_heading level0 col0\" >αλλα</th>\n",
       "      <th id=\"T_f25cd_level0_col1\" class=\"col_heading level0 col1\" >αμεση</th>\n",
       "      <th id=\"T_f25cd_level0_col2\" class=\"col_heading level0 col2\" >ανανεωση</th>\n",
       "      <th id=\"T_f25cd_level0_col3\" class=\"col_heading level0 col3\" >απαραδεκτη</th>\n",
       "      <th id=\"T_f25cd_level0_col4\" class=\"col_heading level0 col4\" >απο</th>\n",
       "      <th id=\"T_f25cd_level0_col5\" class=\"col_heading level0 col5\" >αρμοδιο</th>\n",
       "      <th id=\"T_f25cd_level0_col6\" class=\"col_heading level0 col6\" >βρω</th>\n",
       "      <th id=\"T_f25cd_level0_col7\" class=\"col_heading level0 col7\" >γενικα</th>\n",
       "      <th id=\"T_f25cd_level0_col8\" class=\"col_heading level0 col8\" >για</th>\n",
       "      <th id=\"T_f25cd_level0_col9\" class=\"col_heading level0 col9\" >διακοπες</th>\n",
       "      <th id=\"T_f25cd_level0_col10\" class=\"col_heading level0 col10\" >διακοπη</th>\n",
       "      <th id=\"T_f25cd_level0_col11\" class=\"col_heading level0 col11\" >δυσκολευτηκα</th>\n",
       "      <th id=\"T_f25cd_level0_col12\" class=\"col_heading level0 col12\" >ειχα</th>\n",
       "      <th id=\"T_f25cd_level0_col13\" class=\"col_heading level0 col13\" >εκανε</th>\n",
       "      <th id=\"T_f25cd_level0_col14\" class=\"col_heading level0 col14\" >εκπροσωπο</th>\n",
       "      <th id=\"T_f25cd_level0_col15\" class=\"col_heading level0 col15\" >εξυπηρετηση</th>\n",
       "      <th id=\"T_f25cd_level0_col16\" class=\"col_heading level0 col16\" >επαγγελματισμοσ</th>\n",
       "      <th id=\"T_f25cd_level0_col17\" class=\"col_heading level0 col17\" >ευγενεια</th>\n",
       "      <th id=\"T_f25cd_level0_col18\" class=\"col_heading level0 col18\" >εχουμε</th>\n",
       "      <th id=\"T_f25cd_level0_col19\" class=\"col_heading level0 col19\" >θα</th>\n",
       "      <th id=\"T_f25cd_level0_col20\" class=\"col_heading level0 col20\" >ιντερνετ</th>\n",
       "      <th id=\"T_f25cd_level0_col21\" class=\"col_heading level0 col21\" >καθε</th>\n",
       "      <th id=\"T_f25cd_level0_col22\" class=\"col_heading level0 col22\" >κατασταση</th>\n",
       "      <th id=\"T_f25cd_level0_col23\" class=\"col_heading level0 col23\" >κρατησε</th>\n",
       "      <th id=\"T_f25cd_level0_col24\" class=\"col_heading level0 col24\" >κυριως</th>\n",
       "      <th id=\"T_f25cd_level0_col25\" class=\"col_heading level0 col25\" >λεπτα</th>\n",
       "      <th id=\"T_f25cd_level0_col26\" class=\"col_heading level0 col26\" >λιγα</th>\n",
       "      <th id=\"T_f25cd_level0_col27\" class=\"col_heading level0 col27\" >να</th>\n",
       "      <th id=\"T_f25cd_level0_col28\" class=\"col_heading level0 col28\" >πανω</th>\n",
       "      <th id=\"T_f25cd_level0_col29\" class=\"col_heading level0 col29\" >που</th>\n",
       "      <th id=\"T_f25cd_level0_col30\" class=\"col_heading level0 col30\" >πχ</th>\n",
       "      <th id=\"T_f25cd_level0_col31\" class=\"col_heading level0 col31\" >σημερα</th>\n",
       "      <th id=\"T_f25cd_level0_col32\" class=\"col_heading level0 col32\" >στο</th>\n",
       "      <th id=\"T_f25cd_level0_col33\" class=\"col_heading level0 col33\" >συμβολαιων</th>\n",
       "      <th id=\"T_f25cd_level0_col34\" class=\"col_heading level0 col34\" >συχνες</th>\n",
       "      <th id=\"T_f25cd_level0_col35\" class=\"col_heading level0 col35\" >τηλ</th>\n",
       "      <th id=\"T_f25cd_level0_col36\" class=\"col_heading level0 col36\" >τηλεφ</th>\n",
       "      <th id=\"T_f25cd_level0_col37\" class=\"col_heading level0 col37\" >την</th>\n",
       "      <th id=\"T_f25cd_level0_col38\" class=\"col_heading level0 col38\" >τον</th>\n",
       "      <th id=\"T_f25cd_level0_col39\" class=\"col_heading level0 col39\" >του</th>\n",
       "      <th id=\"T_f25cd_level0_col40\" class=\"col_heading level0 col40\" >των</th>\n",
       "      <th id=\"T_f25cd_level0_col41\" class=\"col_heading level0 col41\" >φορα</th>\n",
       "      <th id=\"T_f25cd_level0_col42\" class=\"col_heading level0 col42\" >χθεσ</th>\n",
       "      <th id=\"T_f25cd_level0_col43\" class=\"col_heading level0 col43\" >ωρες</th>\n",
       "      <th id=\"T_f25cd_level0_col44\" class=\"col_heading level0 col44\" >Original Sentence</th>\n",
       "    </tr>\n",
       "  </thead>\n",
       "  <tbody>\n",
       "    <tr>\n",
       "      <th id=\"T_f25cd_level0_row0\" class=\"row_heading level0 row0\" >0</th>\n",
       "      <td id=\"T_f25cd_row0_col0\" class=\"data row0 col0\" >0</td>\n",
       "      <td id=\"T_f25cd_row0_col1\" class=\"data row0 col1\" >1</td>\n",
       "      <td id=\"T_f25cd_row0_col2\" class=\"data row0 col2\" >0</td>\n",
       "      <td id=\"T_f25cd_row0_col3\" class=\"data row0 col3\" >0</td>\n",
       "      <td id=\"T_f25cd_row0_col4\" class=\"data row0 col4\" >0</td>\n",
       "      <td id=\"T_f25cd_row0_col5\" class=\"data row0 col5\" >0</td>\n",
       "      <td id=\"T_f25cd_row0_col6\" class=\"data row0 col6\" >0</td>\n",
       "      <td id=\"T_f25cd_row0_col7\" class=\"data row0 col7\" >0</td>\n",
       "      <td id=\"T_f25cd_row0_col8\" class=\"data row0 col8\" >0</td>\n",
       "      <td id=\"T_f25cd_row0_col9\" class=\"data row0 col9\" >0</td>\n",
       "      <td id=\"T_f25cd_row0_col10\" class=\"data row0 col10\" >0</td>\n",
       "      <td id=\"T_f25cd_row0_col11\" class=\"data row0 col11\" >0</td>\n",
       "      <td id=\"T_f25cd_row0_col12\" class=\"data row0 col12\" >0</td>\n",
       "      <td id=\"T_f25cd_row0_col13\" class=\"data row0 col13\" >0</td>\n",
       "      <td id=\"T_f25cd_row0_col14\" class=\"data row0 col14\" >0</td>\n",
       "      <td id=\"T_f25cd_row0_col15\" class=\"data row0 col15\" >1</td>\n",
       "      <td id=\"T_f25cd_row0_col16\" class=\"data row0 col16\" >0</td>\n",
       "      <td id=\"T_f25cd_row0_col17\" class=\"data row0 col17\" >0</td>\n",
       "      <td id=\"T_f25cd_row0_col18\" class=\"data row0 col18\" >0</td>\n",
       "      <td id=\"T_f25cd_row0_col19\" class=\"data row0 col19\" >0</td>\n",
       "      <td id=\"T_f25cd_row0_col20\" class=\"data row0 col20\" >0</td>\n",
       "      <td id=\"T_f25cd_row0_col21\" class=\"data row0 col21\" >0</td>\n",
       "      <td id=\"T_f25cd_row0_col22\" class=\"data row0 col22\" >0</td>\n",
       "      <td id=\"T_f25cd_row0_col23\" class=\"data row0 col23\" >0</td>\n",
       "      <td id=\"T_f25cd_row0_col24\" class=\"data row0 col24\" >0</td>\n",
       "      <td id=\"T_f25cd_row0_col25\" class=\"data row0 col25\" >0</td>\n",
       "      <td id=\"T_f25cd_row0_col26\" class=\"data row0 col26\" >0</td>\n",
       "      <td id=\"T_f25cd_row0_col27\" class=\"data row0 col27\" >0</td>\n",
       "      <td id=\"T_f25cd_row0_col28\" class=\"data row0 col28\" >0</td>\n",
       "      <td id=\"T_f25cd_row0_col29\" class=\"data row0 col29\" >0</td>\n",
       "      <td id=\"T_f25cd_row0_col30\" class=\"data row0 col30\" >0</td>\n",
       "      <td id=\"T_f25cd_row0_col31\" class=\"data row0 col31\" >0</td>\n",
       "      <td id=\"T_f25cd_row0_col32\" class=\"data row0 col32\" >0</td>\n",
       "      <td id=\"T_f25cd_row0_col33\" class=\"data row0 col33\" >0</td>\n",
       "      <td id=\"T_f25cd_row0_col34\" class=\"data row0 col34\" >0</td>\n",
       "      <td id=\"T_f25cd_row0_col35\" class=\"data row0 col35\" >0</td>\n",
       "      <td id=\"T_f25cd_row0_col36\" class=\"data row0 col36\" >0</td>\n",
       "      <td id=\"T_f25cd_row0_col37\" class=\"data row0 col37\" >0</td>\n",
       "      <td id=\"T_f25cd_row0_col38\" class=\"data row0 col38\" >0</td>\n",
       "      <td id=\"T_f25cd_row0_col39\" class=\"data row0 col39\" >0</td>\n",
       "      <td id=\"T_f25cd_row0_col40\" class=\"data row0 col40\" >0</td>\n",
       "      <td id=\"T_f25cd_row0_col41\" class=\"data row0 col41\" >0</td>\n",
       "      <td id=\"T_f25cd_row0_col42\" class=\"data row0 col42\" >0</td>\n",
       "      <td id=\"T_f25cd_row0_col43\" class=\"data row0 col43\" >0</td>\n",
       "      <td id=\"T_f25cd_row0_col44\" class=\"data row0 col44\" >αμεση εξυπηρετηση</td>\n",
       "    </tr>\n",
       "    <tr>\n",
       "      <th id=\"T_f25cd_level0_row1\" class=\"row_heading level0 row1\" >1</th>\n",
       "      <td id=\"T_f25cd_row1_col0\" class=\"data row1 col0\" >0</td>\n",
       "      <td id=\"T_f25cd_row1_col1\" class=\"data row1 col1\" >0</td>\n",
       "      <td id=\"T_f25cd_row1_col2\" class=\"data row1 col2\" >0</td>\n",
       "      <td id=\"T_f25cd_row1_col3\" class=\"data row1 col3\" >0</td>\n",
       "      <td id=\"T_f25cd_row1_col4\" class=\"data row1 col4\" >0</td>\n",
       "      <td id=\"T_f25cd_row1_col5\" class=\"data row1 col5\" >0</td>\n",
       "      <td id=\"T_f25cd_row1_col6\" class=\"data row1 col6\" >0</td>\n",
       "      <td id=\"T_f25cd_row1_col7\" class=\"data row1 col7\" >0</td>\n",
       "      <td id=\"T_f25cd_row1_col8\" class=\"data row1 col8\" >0</td>\n",
       "      <td id=\"T_f25cd_row1_col9\" class=\"data row1 col9\" >0</td>\n",
       "      <td id=\"T_f25cd_row1_col10\" class=\"data row1 col10\" >0</td>\n",
       "      <td id=\"T_f25cd_row1_col11\" class=\"data row1 col11\" >0</td>\n",
       "      <td id=\"T_f25cd_row1_col12\" class=\"data row1 col12\" >0</td>\n",
       "      <td id=\"T_f25cd_row1_col13\" class=\"data row1 col13\" >0</td>\n",
       "      <td id=\"T_f25cd_row1_col14\" class=\"data row1 col14\" >0</td>\n",
       "      <td id=\"T_f25cd_row1_col15\" class=\"data row1 col15\" >0</td>\n",
       "      <td id=\"T_f25cd_row1_col16\" class=\"data row1 col16\" >1</td>\n",
       "      <td id=\"T_f25cd_row1_col17\" class=\"data row1 col17\" >1</td>\n",
       "      <td id=\"T_f25cd_row1_col18\" class=\"data row1 col18\" >0</td>\n",
       "      <td id=\"T_f25cd_row1_col19\" class=\"data row1 col19\" >0</td>\n",
       "      <td id=\"T_f25cd_row1_col20\" class=\"data row1 col20\" >0</td>\n",
       "      <td id=\"T_f25cd_row1_col21\" class=\"data row1 col21\" >0</td>\n",
       "      <td id=\"T_f25cd_row1_col22\" class=\"data row1 col22\" >0</td>\n",
       "      <td id=\"T_f25cd_row1_col23\" class=\"data row1 col23\" >0</td>\n",
       "      <td id=\"T_f25cd_row1_col24\" class=\"data row1 col24\" >0</td>\n",
       "      <td id=\"T_f25cd_row1_col25\" class=\"data row1 col25\" >0</td>\n",
       "      <td id=\"T_f25cd_row1_col26\" class=\"data row1 col26\" >0</td>\n",
       "      <td id=\"T_f25cd_row1_col27\" class=\"data row1 col27\" >0</td>\n",
       "      <td id=\"T_f25cd_row1_col28\" class=\"data row1 col28\" >0</td>\n",
       "      <td id=\"T_f25cd_row1_col29\" class=\"data row1 col29\" >0</td>\n",
       "      <td id=\"T_f25cd_row1_col30\" class=\"data row1 col30\" >0</td>\n",
       "      <td id=\"T_f25cd_row1_col31\" class=\"data row1 col31\" >0</td>\n",
       "      <td id=\"T_f25cd_row1_col32\" class=\"data row1 col32\" >0</td>\n",
       "      <td id=\"T_f25cd_row1_col33\" class=\"data row1 col33\" >0</td>\n",
       "      <td id=\"T_f25cd_row1_col34\" class=\"data row1 col34\" >0</td>\n",
       "      <td id=\"T_f25cd_row1_col35\" class=\"data row1 col35\" >0</td>\n",
       "      <td id=\"T_f25cd_row1_col36\" class=\"data row1 col36\" >0</td>\n",
       "      <td id=\"T_f25cd_row1_col37\" class=\"data row1 col37\" >0</td>\n",
       "      <td id=\"T_f25cd_row1_col38\" class=\"data row1 col38\" >0</td>\n",
       "      <td id=\"T_f25cd_row1_col39\" class=\"data row1 col39\" >0</td>\n",
       "      <td id=\"T_f25cd_row1_col40\" class=\"data row1 col40\" >0</td>\n",
       "      <td id=\"T_f25cd_row1_col41\" class=\"data row1 col41\" >0</td>\n",
       "      <td id=\"T_f25cd_row1_col42\" class=\"data row1 col42\" >0</td>\n",
       "      <td id=\"T_f25cd_row1_col43\" class=\"data row1 col43\" >0</td>\n",
       "      <td id=\"T_f25cd_row1_col44\" class=\"data row1 col44\" >ευγενεια -επαγγελματισμοσ</td>\n",
       "    </tr>\n",
       "    <tr>\n",
       "      <th id=\"T_f25cd_level0_row2\" class=\"row_heading level0 row2\" >2</th>\n",
       "      <td id=\"T_f25cd_row2_col0\" class=\"data row2 col0\" >0</td>\n",
       "      <td id=\"T_f25cd_row2_col1\" class=\"data row2 col1\" >0</td>\n",
       "      <td id=\"T_f25cd_row2_col2\" class=\"data row2 col2\" >1</td>\n",
       "      <td id=\"T_f25cd_row2_col3\" class=\"data row2 col3\" >0</td>\n",
       "      <td id=\"T_f25cd_row2_col4\" class=\"data row2 col4\" >0</td>\n",
       "      <td id=\"T_f25cd_row2_col5\" class=\"data row2 col5\" >1</td>\n",
       "      <td id=\"T_f25cd_row2_col6\" class=\"data row2 col6\" >1</td>\n",
       "      <td id=\"T_f25cd_row2_col7\" class=\"data row2 col7\" >0</td>\n",
       "      <td id=\"T_f25cd_row2_col8\" class=\"data row2 col8\" >0</td>\n",
       "      <td id=\"T_f25cd_row2_col9\" class=\"data row2 col9\" >0</td>\n",
       "      <td id=\"T_f25cd_row2_col10\" class=\"data row2 col10\" >0</td>\n",
       "      <td id=\"T_f25cd_row2_col11\" class=\"data row2 col11\" >1</td>\n",
       "      <td id=\"T_f25cd_row2_col12\" class=\"data row2 col12\" >0</td>\n",
       "      <td id=\"T_f25cd_row2_col13\" class=\"data row2 col13\" >1</td>\n",
       "      <td id=\"T_f25cd_row2_col14\" class=\"data row2 col14\" >1</td>\n",
       "      <td id=\"T_f25cd_row2_col15\" class=\"data row2 col15\" >0</td>\n",
       "      <td id=\"T_f25cd_row2_col16\" class=\"data row2 col16\" >0</td>\n",
       "      <td id=\"T_f25cd_row2_col17\" class=\"data row2 col17\" >0</td>\n",
       "      <td id=\"T_f25cd_row2_col18\" class=\"data row2 col18\" >0</td>\n",
       "      <td id=\"T_f25cd_row2_col19\" class=\"data row2 col19\" >1</td>\n",
       "      <td id=\"T_f25cd_row2_col20\" class=\"data row2 col20\" >0</td>\n",
       "      <td id=\"T_f25cd_row2_col21\" class=\"data row2 col21\" >0</td>\n",
       "      <td id=\"T_f25cd_row2_col22\" class=\"data row2 col22\" >0</td>\n",
       "      <td id=\"T_f25cd_row2_col23\" class=\"data row2 col23\" >0</td>\n",
       "      <td id=\"T_f25cd_row2_col24\" class=\"data row2 col24\" >0</td>\n",
       "      <td id=\"T_f25cd_row2_col25\" class=\"data row2 col25\" >0</td>\n",
       "      <td id=\"T_f25cd_row2_col26\" class=\"data row2 col26\" >0</td>\n",
       "      <td id=\"T_f25cd_row2_col27\" class=\"data row2 col27\" >1</td>\n",
       "      <td id=\"T_f25cd_row2_col28\" class=\"data row2 col28\" >0</td>\n",
       "      <td id=\"T_f25cd_row2_col29\" class=\"data row2 col29\" >1</td>\n",
       "      <td id=\"T_f25cd_row2_col30\" class=\"data row2 col30\" >0</td>\n",
       "      <td id=\"T_f25cd_row2_col31\" class=\"data row2 col31\" >0</td>\n",
       "      <td id=\"T_f25cd_row2_col32\" class=\"data row2 col32\" >0</td>\n",
       "      <td id=\"T_f25cd_row2_col33\" class=\"data row2 col33\" >1</td>\n",
       "      <td id=\"T_f25cd_row2_col34\" class=\"data row2 col34\" >0</td>\n",
       "      <td id=\"T_f25cd_row2_col35\" class=\"data row2 col35\" >0</td>\n",
       "      <td id=\"T_f25cd_row2_col36\" class=\"data row2 col36\" >0</td>\n",
       "      <td id=\"T_f25cd_row2_col37\" class=\"data row2 col37\" >1</td>\n",
       "      <td id=\"T_f25cd_row2_col38\" class=\"data row2 col38\" >1</td>\n",
       "      <td id=\"T_f25cd_row2_col39\" class=\"data row2 col39\" >0</td>\n",
       "      <td id=\"T_f25cd_row2_col40\" class=\"data row2 col40\" >1</td>\n",
       "      <td id=\"T_f25cd_row2_col41\" class=\"data row2 col41\" >0</td>\n",
       "      <td id=\"T_f25cd_row2_col42\" class=\"data row2 col42\" >0</td>\n",
       "      <td id=\"T_f25cd_row2_col43\" class=\"data row2 col43\" >0</td>\n",
       "      <td id=\"T_f25cd_row2_col44\" class=\"data row2 col44\" >δυσκολευτηκα να βρω τον αρμοδιο εκπροσωπο που θα εκανε την ανανεωση των συμβολαιων</td>\n",
       "    </tr>\n",
       "    <tr>\n",
       "      <th id=\"T_f25cd_level0_row3\" class=\"row_heading level0 row3\" >3</th>\n",
       "      <td id=\"T_f25cd_row3_col0\" class=\"data row3 col0\" >2</td>\n",
       "      <td id=\"T_f25cd_row3_col1\" class=\"data row3 col1\" >0</td>\n",
       "      <td id=\"T_f25cd_row3_col2\" class=\"data row3 col2\" >0</td>\n",
       "      <td id=\"T_f25cd_row3_col3\" class=\"data row3 col3\" >1</td>\n",
       "      <td id=\"T_f25cd_row3_col4\" class=\"data row3 col4\" >1</td>\n",
       "      <td id=\"T_f25cd_row3_col5\" class=\"data row3 col5\" >0</td>\n",
       "      <td id=\"T_f25cd_row3_col6\" class=\"data row3 col6\" >0</td>\n",
       "      <td id=\"T_f25cd_row3_col7\" class=\"data row3 col7\" >1</td>\n",
       "      <td id=\"T_f25cd_row3_col8\" class=\"data row3 col8\" >1</td>\n",
       "      <td id=\"T_f25cd_row3_col9\" class=\"data row3 col9\" >2</td>\n",
       "      <td id=\"T_f25cd_row3_col10\" class=\"data row3 col10\" >1</td>\n",
       "      <td id=\"T_f25cd_row3_col11\" class=\"data row3 col11\" >0</td>\n",
       "      <td id=\"T_f25cd_row3_col12\" class=\"data row3 col12\" >1</td>\n",
       "      <td id=\"T_f25cd_row3_col13\" class=\"data row3 col13\" >0</td>\n",
       "      <td id=\"T_f25cd_row3_col14\" class=\"data row3 col14\" >0</td>\n",
       "      <td id=\"T_f25cd_row3_col15\" class=\"data row3 col15\" >0</td>\n",
       "      <td id=\"T_f25cd_row3_col16\" class=\"data row3 col16\" >0</td>\n",
       "      <td id=\"T_f25cd_row3_col17\" class=\"data row3 col17\" >0</td>\n",
       "      <td id=\"T_f25cd_row3_col18\" class=\"data row3 col18\" >1</td>\n",
       "      <td id=\"T_f25cd_row3_col19\" class=\"data row3 col19\" >0</td>\n",
       "      <td id=\"T_f25cd_row3_col20\" class=\"data row3 col20\" >1</td>\n",
       "      <td id=\"T_f25cd_row3_col21\" class=\"data row3 col21\" >1</td>\n",
       "      <td id=\"T_f25cd_row3_col22\" class=\"data row3 col22\" >1</td>\n",
       "      <td id=\"T_f25cd_row3_col23\" class=\"data row3 col23\" >1</td>\n",
       "      <td id=\"T_f25cd_row3_col24\" class=\"data row3 col24\" >1</td>\n",
       "      <td id=\"T_f25cd_row3_col25\" class=\"data row3 col25\" >1</td>\n",
       "      <td id=\"T_f25cd_row3_col26\" class=\"data row3 col26\" >1</td>\n",
       "      <td id=\"T_f25cd_row3_col27\" class=\"data row3 col27\" >0</td>\n",
       "      <td id=\"T_f25cd_row3_col28\" class=\"data row3 col28\" >1</td>\n",
       "      <td id=\"T_f25cd_row3_col29\" class=\"data row3 col29\" >0</td>\n",
       "      <td id=\"T_f25cd_row3_col30\" class=\"data row3 col30\" >1</td>\n",
       "      <td id=\"T_f25cd_row3_col31\" class=\"data row3 col31\" >1</td>\n",
       "      <td id=\"T_f25cd_row3_col32\" class=\"data row3 col32\" >2</td>\n",
       "      <td id=\"T_f25cd_row3_col33\" class=\"data row3 col33\" >0</td>\n",
       "      <td id=\"T_f25cd_row3_col34\" class=\"data row3 col34\" >1</td>\n",
       "      <td id=\"T_f25cd_row3_col35\" class=\"data row3 col35\" >1</td>\n",
       "      <td id=\"T_f25cd_row3_col36\" class=\"data row3 col36\" >1</td>\n",
       "      <td id=\"T_f25cd_row3_col37\" class=\"data row3 col37\" >0</td>\n",
       "      <td id=\"T_f25cd_row3_col38\" class=\"data row3 col38\" >0</td>\n",
       "      <td id=\"T_f25cd_row3_col39\" class=\"data row3 col39\" >1</td>\n",
       "      <td id=\"T_f25cd_row3_col40\" class=\"data row3 col40\" >0</td>\n",
       "      <td id=\"T_f25cd_row3_col41\" class=\"data row3 col41\" >1</td>\n",
       "      <td id=\"T_f25cd_row3_col42\" class=\"data row3 col42\" >1</td>\n",
       "      <td id=\"T_f25cd_row3_col43\" class=\"data row3 col43\" >1</td>\n",
       "      <td id=\"T_f25cd_row3_col44\" class=\"data row3 col44\" >εχουμε συχνες διακοπες στο ιντερνετ αλλα κυριως στο τηλεφ χθεσ πχ η διακοπη κρατησε πανω απο 5 ωρες σημερα ειχα 3 διακοπες του τηλ αλλα για λιγα λεπτα η καθε φορα γενικα η κατασταση απαραδεκτη</td>\n",
       "    </tr>\n",
       "  </tbody>\n",
       "</table>\n"
      ],
      "text/plain": [
       "<pandas.io.formats.style.Styler at 0x1dbb256c6d0>"
      ]
     },
     "execution_count": 28,
     "metadata": {},
     "output_type": "execute_result"
    }
   ],
   "source": [
    "bow_df = pd.DataFrame(sample_sents_bow.todense())\n",
    "bow_df.columns = sorted(sample_vect.vocabulary_)\n",
    "bow_df['Original Sentence'] = sample_sentences\n",
    "bow_df.style.apply(highlight_ones)"
   ]
  },
  {
   "cell_type": "code",
   "execution_count": 29,
   "id": "b4e01dd5",
   "metadata": {},
   "outputs": [
    {
     "name": "stdout",
     "output_type": "stream",
     "text": [
      "Brand Comments NPS_Label NPS_encoded\n"
     ]
    }
   ],
   "source": [
    "# A pandas Series is also an iterable. So we can handle it like a List.\n",
    "# Concatenating all songs into one text.\n",
    "corpora = \" \".join(df)\n",
    "\n",
    "print(corpora[:1000])"
   ]
  },
  {
   "cell_type": "code",
   "execution_count": 30,
   "id": "51b93bbd",
   "metadata": {},
   "outputs": [
    {
     "data": {
      "text/plain": [
       "[('Brand', 1), ('Comments', 1), ('NPS_Label', 1), ('NPS_encoded', 1)]"
      ]
     },
     "execution_count": 30,
     "metadata": {},
     "output_type": "execute_result"
    }
   ],
   "source": [
    "top_words = Counter(corpora.split()).most_common()\n",
    "top_words[:20]"
   ]
  },
  {
   "cell_type": "code",
   "execution_count": 31,
   "id": "68a5bfab",
   "metadata": {
    "scrolled": true
   },
   "outputs": [
    {
     "name": "stdout",
     "output_type": "stream",
     "text": [
      "['brand', 'comments', 'nps_encoded', 'nps_label']\n"
     ]
    }
   ],
   "source": [
    "# Printing the top 100 most common words in order to pick those that we want to \n",
    "# include in our Stop Words List. \n",
    "print(sorted([i[0].lower() for i in top_words[:100]]))"
   ]
  },
  {
   "cell_type": "code",
   "execution_count": 32,
   "id": "ff918b0b",
   "metadata": {},
   "outputs": [
    {
     "name": "stdout",
     "output_type": "stream",
     "text": [
      "['Brand', 'Comments', 'NPS_Label', 'NPS_encoded']\n"
     ]
    }
   ],
   "source": [
    "# Printing the top 100 most common words in order to pick those that we want to \n",
    "# include in our Stop Words List. \n",
    "print(sorted([i[0] for i in top_words[:100]]))"
   ]
  },
  {
   "cell_type": "code",
   "execution_count": 33,
   "id": "1de8d02e",
   "metadata": {},
   "outputs": [],
   "source": [
    "# Creating our custom Greek Stop Words List.\n",
    "gr_stop = [ ',', 'αν', 'απο', 'από', 'ας', 'αυτο', 'για', 'εγω', 'εσυ', 'ετσι', 'ειμαι', 'ειναι',\n",
    "           'ειχα', 'ενα', 'εχει', 'εχω', 'η', 'ηταν', 'θα', 'η', 'η', 'ηταν', 'θα', 'και', 'και',\n",
    "           'κι', 'μα', 'μας', 'με', 'μες', 'μη', 'μην', 'μια', 'μου', 'μου,', 'μ’', 'ν', 'να', 'ο',\n",
    "           'ο', 'οι', 'ολα', 'οτι','που', 'σασ', 'σε', 'στην', 'στο', 'τα','τη', 'την', 'τησ', 'τισ',\n",
    "           'το', 'τον', 'του', 'τουσ', 'των' ]"
   ]
  },
  {
   "cell_type": "code",
   "execution_count": 34,
   "id": "0db8474e",
   "metadata": {},
   "outputs": [],
   "source": [
    "# Total Number of Words to use for vectorization. \n",
    "# The vectorizer will keep the K most common tokens (words-characters)\n",
    "max_words = 500"
   ]
  },
  {
   "cell_type": "code",
   "execution_count": 35,
   "id": "a9fab893",
   "metadata": {},
   "outputs": [
    {
     "data": {
      "text/html": [
       "<style>#sk-container-id-3 {color: black;background-color: white;}#sk-container-id-3 pre{padding: 0;}#sk-container-id-3 div.sk-toggleable {background-color: white;}#sk-container-id-3 label.sk-toggleable__label {cursor: pointer;display: block;width: 100%;margin-bottom: 0;padding: 0.3em;box-sizing: border-box;text-align: center;}#sk-container-id-3 label.sk-toggleable__label-arrow:before {content: \"▸\";float: left;margin-right: 0.25em;color: #696969;}#sk-container-id-3 label.sk-toggleable__label-arrow:hover:before {color: black;}#sk-container-id-3 div.sk-estimator:hover label.sk-toggleable__label-arrow:before {color: black;}#sk-container-id-3 div.sk-toggleable__content {max-height: 0;max-width: 0;overflow: hidden;text-align: left;background-color: #f0f8ff;}#sk-container-id-3 div.sk-toggleable__content pre {margin: 0.2em;color: black;border-radius: 0.25em;background-color: #f0f8ff;}#sk-container-id-3 input.sk-toggleable__control:checked~div.sk-toggleable__content {max-height: 200px;max-width: 100%;overflow: auto;}#sk-container-id-3 input.sk-toggleable__control:checked~label.sk-toggleable__label-arrow:before {content: \"▾\";}#sk-container-id-3 div.sk-estimator input.sk-toggleable__control:checked~label.sk-toggleable__label {background-color: #d4ebff;}#sk-container-id-3 div.sk-label input.sk-toggleable__control:checked~label.sk-toggleable__label {background-color: #d4ebff;}#sk-container-id-3 input.sk-hidden--visually {border: 0;clip: rect(1px 1px 1px 1px);clip: rect(1px, 1px, 1px, 1px);height: 1px;margin: -1px;overflow: hidden;padding: 0;position: absolute;width: 1px;}#sk-container-id-3 div.sk-estimator {font-family: monospace;background-color: #f0f8ff;border: 1px dotted black;border-radius: 0.25em;box-sizing: border-box;margin-bottom: 0.5em;}#sk-container-id-3 div.sk-estimator:hover {background-color: #d4ebff;}#sk-container-id-3 div.sk-parallel-item::after {content: \"\";width: 100%;border-bottom: 1px solid gray;flex-grow: 1;}#sk-container-id-3 div.sk-label:hover label.sk-toggleable__label {background-color: #d4ebff;}#sk-container-id-3 div.sk-serial::before {content: \"\";position: absolute;border-left: 1px solid gray;box-sizing: border-box;top: 0;bottom: 0;left: 50%;z-index: 0;}#sk-container-id-3 div.sk-serial {display: flex;flex-direction: column;align-items: center;background-color: white;padding-right: 0.2em;padding-left: 0.2em;position: relative;}#sk-container-id-3 div.sk-item {position: relative;z-index: 1;}#sk-container-id-3 div.sk-parallel {display: flex;align-items: stretch;justify-content: center;background-color: white;position: relative;}#sk-container-id-3 div.sk-item::before, #sk-container-id-3 div.sk-parallel-item::before {content: \"\";position: absolute;border-left: 1px solid gray;box-sizing: border-box;top: 0;bottom: 0;left: 50%;z-index: -1;}#sk-container-id-3 div.sk-parallel-item {display: flex;flex-direction: column;z-index: 1;position: relative;background-color: white;}#sk-container-id-3 div.sk-parallel-item:first-child::after {align-self: flex-end;width: 50%;}#sk-container-id-3 div.sk-parallel-item:last-child::after {align-self: flex-start;width: 50%;}#sk-container-id-3 div.sk-parallel-item:only-child::after {width: 0;}#sk-container-id-3 div.sk-dashed-wrapped {border: 1px dashed gray;margin: 0 0.4em 0.5em 0.4em;box-sizing: border-box;padding-bottom: 0.4em;background-color: white;}#sk-container-id-3 div.sk-label label {font-family: monospace;font-weight: bold;display: inline-block;line-height: 1.2em;}#sk-container-id-3 div.sk-label-container {text-align: center;}#sk-container-id-3 div.sk-container {/* jupyter's `normalize.less` sets `[hidden] { display: none; }` but bootstrap.min.css set `[hidden] { display: none !important; }` so we also need the `!important` here to be able to override the default hidden behavior on the sphinx rendered scikit-learn.org. See: https://github.com/scikit-learn/scikit-learn/issues/21755 */display: inline-block !important;position: relative;}#sk-container-id-3 div.sk-text-repr-fallback {display: none;}</style><div id=\"sk-container-id-3\" class=\"sk-top-container\"><div class=\"sk-text-repr-fallback\"><pre>CountVectorizer(max_features=500,\n",
       "                stop_words=[&#x27;,&#x27;, &#x27;αν&#x27;, &#x27;απο&#x27;, &#x27;από&#x27;, &#x27;ας&#x27;, &#x27;αυτο&#x27;, &#x27;για&#x27;, &#x27;εγω&#x27;,\n",
       "                            &#x27;εσυ&#x27;, &#x27;ετσι&#x27;, &#x27;ειμαι&#x27;, &#x27;ειναι&#x27;, &#x27;ειχα&#x27;, &#x27;ενα&#x27;,\n",
       "                            &#x27;εχει&#x27;, &#x27;εχω&#x27;, &#x27;η&#x27;, &#x27;ηταν&#x27;, &#x27;θα&#x27;, &#x27;η&#x27;, &#x27;η&#x27;, &#x27;ηταν&#x27;,\n",
       "                            &#x27;θα&#x27;, &#x27;και&#x27;, &#x27;και&#x27;, &#x27;κι&#x27;, &#x27;μα&#x27;, &#x27;μας&#x27;, &#x27;με&#x27;, &#x27;μες&#x27;, ...],\n",
       "                strip_accents=&#x27;unicode&#x27;)</pre><b>In a Jupyter environment, please rerun this cell to show the HTML representation or trust the notebook. <br />On GitHub, the HTML representation is unable to render, please try loading this page with nbviewer.org.</b></div><div class=\"sk-container\" hidden><div class=\"sk-item\"><div class=\"sk-estimator sk-toggleable\"><input class=\"sk-toggleable__control sk-hidden--visually\" id=\"sk-estimator-id-3\" type=\"checkbox\" checked><label for=\"sk-estimator-id-3\" class=\"sk-toggleable__label sk-toggleable__label-arrow\">CountVectorizer</label><div class=\"sk-toggleable__content\"><pre>CountVectorizer(max_features=500,\n",
       "                stop_words=[&#x27;,&#x27;, &#x27;αν&#x27;, &#x27;απο&#x27;, &#x27;από&#x27;, &#x27;ας&#x27;, &#x27;αυτο&#x27;, &#x27;για&#x27;, &#x27;εγω&#x27;,\n",
       "                            &#x27;εσυ&#x27;, &#x27;ετσι&#x27;, &#x27;ειμαι&#x27;, &#x27;ειναι&#x27;, &#x27;ειχα&#x27;, &#x27;ενα&#x27;,\n",
       "                            &#x27;εχει&#x27;, &#x27;εχω&#x27;, &#x27;η&#x27;, &#x27;ηταν&#x27;, &#x27;θα&#x27;, &#x27;η&#x27;, &#x27;η&#x27;, &#x27;ηταν&#x27;,\n",
       "                            &#x27;θα&#x27;, &#x27;και&#x27;, &#x27;και&#x27;, &#x27;κι&#x27;, &#x27;μα&#x27;, &#x27;μας&#x27;, &#x27;με&#x27;, &#x27;μες&#x27;, ...],\n",
       "                strip_accents=&#x27;unicode&#x27;)</pre></div></div></div></div></div>"
      ],
      "text/plain": [
       "CountVectorizer(max_features=500,\n",
       "                stop_words=[',', 'αν', 'απο', 'από', 'ας', 'αυτο', 'για', 'εγω',\n",
       "                            'εσυ', 'ετσι', 'ειμαι', 'ειναι', 'ειχα', 'ενα',\n",
       "                            'εχει', 'εχω', 'η', 'ηταν', 'θα', 'η', 'η', 'ηταν',\n",
       "                            'θα', 'και', 'και', 'κι', 'μα', 'μας', 'με', 'μες', ...],\n",
       "                strip_accents='unicode')"
      ]
     },
     "execution_count": 35,
     "metadata": {},
     "output_type": "execute_result"
    }
   ],
   "source": [
    "# This vectorizer will give the number of appearances of each word\n",
    "counter_vectorizer = CountVectorizer(\n",
    "    encoding='utf-8',\n",
    "    strip_accents='unicode',\n",
    "    lowercase=True,\n",
    "    stop_words=gr_stop,\n",
    "    ngram_range=(1, 1), # unigrams  # ngram_range=(1, 2) -> bigrams\n",
    "    max_features=max_words,\n",
    "    binary=False # binary output or full counts. \n",
    ")\n",
    "counter_vectorizer"
   ]
  },
  {
   "cell_type": "code",
   "execution_count": 36,
   "id": "82636932",
   "metadata": {},
   "outputs": [
    {
     "data": {
      "text/html": [
       "<style>#sk-container-id-4 {color: black;background-color: white;}#sk-container-id-4 pre{padding: 0;}#sk-container-id-4 div.sk-toggleable {background-color: white;}#sk-container-id-4 label.sk-toggleable__label {cursor: pointer;display: block;width: 100%;margin-bottom: 0;padding: 0.3em;box-sizing: border-box;text-align: center;}#sk-container-id-4 label.sk-toggleable__label-arrow:before {content: \"▸\";float: left;margin-right: 0.25em;color: #696969;}#sk-container-id-4 label.sk-toggleable__label-arrow:hover:before {color: black;}#sk-container-id-4 div.sk-estimator:hover label.sk-toggleable__label-arrow:before {color: black;}#sk-container-id-4 div.sk-toggleable__content {max-height: 0;max-width: 0;overflow: hidden;text-align: left;background-color: #f0f8ff;}#sk-container-id-4 div.sk-toggleable__content pre {margin: 0.2em;color: black;border-radius: 0.25em;background-color: #f0f8ff;}#sk-container-id-4 input.sk-toggleable__control:checked~div.sk-toggleable__content {max-height: 200px;max-width: 100%;overflow: auto;}#sk-container-id-4 input.sk-toggleable__control:checked~label.sk-toggleable__label-arrow:before {content: \"▾\";}#sk-container-id-4 div.sk-estimator input.sk-toggleable__control:checked~label.sk-toggleable__label {background-color: #d4ebff;}#sk-container-id-4 div.sk-label input.sk-toggleable__control:checked~label.sk-toggleable__label {background-color: #d4ebff;}#sk-container-id-4 input.sk-hidden--visually {border: 0;clip: rect(1px 1px 1px 1px);clip: rect(1px, 1px, 1px, 1px);height: 1px;margin: -1px;overflow: hidden;padding: 0;position: absolute;width: 1px;}#sk-container-id-4 div.sk-estimator {font-family: monospace;background-color: #f0f8ff;border: 1px dotted black;border-radius: 0.25em;box-sizing: border-box;margin-bottom: 0.5em;}#sk-container-id-4 div.sk-estimator:hover {background-color: #d4ebff;}#sk-container-id-4 div.sk-parallel-item::after {content: \"\";width: 100%;border-bottom: 1px solid gray;flex-grow: 1;}#sk-container-id-4 div.sk-label:hover label.sk-toggleable__label {background-color: #d4ebff;}#sk-container-id-4 div.sk-serial::before {content: \"\";position: absolute;border-left: 1px solid gray;box-sizing: border-box;top: 0;bottom: 0;left: 50%;z-index: 0;}#sk-container-id-4 div.sk-serial {display: flex;flex-direction: column;align-items: center;background-color: white;padding-right: 0.2em;padding-left: 0.2em;position: relative;}#sk-container-id-4 div.sk-item {position: relative;z-index: 1;}#sk-container-id-4 div.sk-parallel {display: flex;align-items: stretch;justify-content: center;background-color: white;position: relative;}#sk-container-id-4 div.sk-item::before, #sk-container-id-4 div.sk-parallel-item::before {content: \"\";position: absolute;border-left: 1px solid gray;box-sizing: border-box;top: 0;bottom: 0;left: 50%;z-index: -1;}#sk-container-id-4 div.sk-parallel-item {display: flex;flex-direction: column;z-index: 1;position: relative;background-color: white;}#sk-container-id-4 div.sk-parallel-item:first-child::after {align-self: flex-end;width: 50%;}#sk-container-id-4 div.sk-parallel-item:last-child::after {align-self: flex-start;width: 50%;}#sk-container-id-4 div.sk-parallel-item:only-child::after {width: 0;}#sk-container-id-4 div.sk-dashed-wrapped {border: 1px dashed gray;margin: 0 0.4em 0.5em 0.4em;box-sizing: border-box;padding-bottom: 0.4em;background-color: white;}#sk-container-id-4 div.sk-label label {font-family: monospace;font-weight: bold;display: inline-block;line-height: 1.2em;}#sk-container-id-4 div.sk-label-container {text-align: center;}#sk-container-id-4 div.sk-container {/* jupyter's `normalize.less` sets `[hidden] { display: none; }` but bootstrap.min.css set `[hidden] { display: none !important; }` so we also need the `!important` here to be able to override the default hidden behavior on the sphinx rendered scikit-learn.org. See: https://github.com/scikit-learn/scikit-learn/issues/21755 */display: inline-block !important;position: relative;}#sk-container-id-4 div.sk-text-repr-fallback {display: none;}</style><div id=\"sk-container-id-4\" class=\"sk-top-container\"><div class=\"sk-text-repr-fallback\"><pre>CountVectorizer(binary=True, max_features=500,\n",
       "                stop_words=[&#x27;,&#x27;, &#x27;αν&#x27;, &#x27;απο&#x27;, &#x27;από&#x27;, &#x27;ας&#x27;, &#x27;αυτο&#x27;, &#x27;για&#x27;, &#x27;εγω&#x27;,\n",
       "                            &#x27;εσυ&#x27;, &#x27;ετσι&#x27;, &#x27;ειμαι&#x27;, &#x27;ειναι&#x27;, &#x27;ειχα&#x27;, &#x27;ενα&#x27;,\n",
       "                            &#x27;εχει&#x27;, &#x27;εχω&#x27;, &#x27;η&#x27;, &#x27;ηταν&#x27;, &#x27;θα&#x27;, &#x27;η&#x27;, &#x27;η&#x27;, &#x27;ηταν&#x27;,\n",
       "                            &#x27;θα&#x27;, &#x27;και&#x27;, &#x27;και&#x27;, &#x27;κι&#x27;, &#x27;μα&#x27;, &#x27;μας&#x27;, &#x27;με&#x27;, &#x27;μες&#x27;, ...],\n",
       "                strip_accents=&#x27;unicode&#x27;)</pre><b>In a Jupyter environment, please rerun this cell to show the HTML representation or trust the notebook. <br />On GitHub, the HTML representation is unable to render, please try loading this page with nbviewer.org.</b></div><div class=\"sk-container\" hidden><div class=\"sk-item\"><div class=\"sk-estimator sk-toggleable\"><input class=\"sk-toggleable__control sk-hidden--visually\" id=\"sk-estimator-id-4\" type=\"checkbox\" checked><label for=\"sk-estimator-id-4\" class=\"sk-toggleable__label sk-toggleable__label-arrow\">CountVectorizer</label><div class=\"sk-toggleable__content\"><pre>CountVectorizer(binary=True, max_features=500,\n",
       "                stop_words=[&#x27;,&#x27;, &#x27;αν&#x27;, &#x27;απο&#x27;, &#x27;από&#x27;, &#x27;ας&#x27;, &#x27;αυτο&#x27;, &#x27;για&#x27;, &#x27;εγω&#x27;,\n",
       "                            &#x27;εσυ&#x27;, &#x27;ετσι&#x27;, &#x27;ειμαι&#x27;, &#x27;ειναι&#x27;, &#x27;ειχα&#x27;, &#x27;ενα&#x27;,\n",
       "                            &#x27;εχει&#x27;, &#x27;εχω&#x27;, &#x27;η&#x27;, &#x27;ηταν&#x27;, &#x27;θα&#x27;, &#x27;η&#x27;, &#x27;η&#x27;, &#x27;ηταν&#x27;,\n",
       "                            &#x27;θα&#x27;, &#x27;και&#x27;, &#x27;και&#x27;, &#x27;κι&#x27;, &#x27;μα&#x27;, &#x27;μας&#x27;, &#x27;με&#x27;, &#x27;μες&#x27;, ...],\n",
       "                strip_accents=&#x27;unicode&#x27;)</pre></div></div></div></div></div>"
      ],
      "text/plain": [
       "CountVectorizer(binary=True, max_features=500,\n",
       "                stop_words=[',', 'αν', 'απο', 'από', 'ας', 'αυτο', 'για', 'εγω',\n",
       "                            'εσυ', 'ετσι', 'ειμαι', 'ειναι', 'ειχα', 'ενα',\n",
       "                            'εχει', 'εχω', 'η', 'ηταν', 'θα', 'η', 'η', 'ηταν',\n",
       "                            'θα', 'και', 'και', 'κι', 'μα', 'μας', 'με', 'μες', ...],\n",
       "                strip_accents='unicode')"
      ]
     },
     "execution_count": 36,
     "metadata": {},
     "output_type": "execute_result"
    }
   ],
   "source": [
    "# This vectorizer will give return 0 or 1 based on the appearence of each word\n",
    "binary_vectorizer = CountVectorizer(\n",
    "    encoding='utf-8',\n",
    "    strip_accents='unicode',\n",
    "    lowercase=True,\n",
    "    stop_words=gr_stop,\n",
    "    ngram_range=(1, 1), # unigrams\n",
    "    max_features=max_words,\n",
    "    binary=True # binary output or full counts. \n",
    "    )\n",
    "binary_vectorizer"
   ]
  },
  {
   "cell_type": "code",
   "execution_count": 37,
   "id": "1b111082",
   "metadata": {},
   "outputs": [
    {
     "data": {
      "text/plain": [
       "4404                  ευγενια,αποτελεσματικοτητα, ταχυτητα\n",
       "3264                      ηταν αποτελεσματικη και ευγενικη\n",
       "9050                                  ειμαι ευχαριστημενοσ\n",
       "5175     ο τεχνικοσ ηρθε στην ωρα του και εκανε καλη δο...\n",
       "3395            εξυπηρετηση και ευγενεια του υπαλληλου σασ\n",
       "                               ...                        \n",
       "5930                                 πολυ καλη εξυπηρετηση\n",
       "5921                             εξυπηρετηση και σαφηνεια.\n",
       "6535                                           εξυπηρετηση\n",
       "11515                                         εξυπιρετικοι\n",
       "11605    παντοτε υπαρχει πολυ γρηγορη εξυπηρετηση απο τ...\n",
       "Name: Comments, Length: 10149, dtype: object"
      ]
     },
     "execution_count": 37,
     "metadata": {},
     "output_type": "execute_result"
    }
   ],
   "source": [
    "X_train"
   ]
  },
  {
   "cell_type": "code",
   "execution_count": 38,
   "id": "defa8e67",
   "metadata": {},
   "outputs": [],
   "source": [
    "# fitting the CountVectorizer in the training data\n",
    "X_train_enc = counter_vectorizer.fit_transform(X_train)"
   ]
  },
  {
   "cell_type": "code",
   "execution_count": 39,
   "id": "b5e00584",
   "metadata": {},
   "outputs": [
    {
     "data": {
      "text/plain": [
       "(10149, 500)"
      ]
     },
     "execution_count": 39,
     "metadata": {},
     "output_type": "execute_result"
    }
   ],
   "source": [
    "X_train_enc.shape"
   ]
  },
  {
   "cell_type": "code",
   "execution_count": 40,
   "id": "06b53886",
   "metadata": {},
   "outputs": [],
   "source": [
    "# Using the FITTED CountVectorizer we transform the Validation and Test Sets\n",
    "X_val_enc = counter_vectorizer.transform(X_val)\n",
    "X_test_enc = counter_vectorizer.transform(X_test)"
   ]
  },
  {
   "cell_type": "code",
   "execution_count": 41,
   "id": "8d394b44",
   "metadata": {},
   "outputs": [
    {
     "name": "stdout",
     "output_type": "stream",
     "text": [
      "X_train encoded shape: (10149, 500)\n",
      "X_val encoded shape: (1792, 500)\n",
      "X_test encoded shape: (2986, 500)\n"
     ]
    }
   ],
   "source": [
    "print(f'X_train encoded shape: {X_train_enc.shape}')\n",
    "print(f'X_val encoded shape: {X_val_enc.shape}')\n",
    "print(f'X_test encoded shape: {X_test_enc.shape}')"
   ]
  },
  {
   "cell_type": "code",
   "execution_count": 42,
   "id": "be8106b9",
   "metadata": {},
   "outputs": [
    {
     "data": {
      "text/plain": [
       "<10149x500 sparse matrix of type '<class 'numpy.int64'>'\n",
       "\twith 35971 stored elements in Compressed Sparse Row format>"
      ]
     },
     "execution_count": 42,
     "metadata": {},
     "output_type": "execute_result"
    }
   ],
   "source": [
    "X_train_enc"
   ]
  },
  {
   "cell_type": "code",
   "execution_count": 43,
   "id": "5e3dcfb5",
   "metadata": {
    "scrolled": true
   },
   "outputs": [
    {
     "data": {
      "text/plain": [
       "matrix([[0, 0, 0, 0, 0, 0, 0, 0, 0, 0, 0, 0, 0, 0, 0, 0, 0, 0, 0, 0, 0,\n",
       "         0, 0, 0, 0, 0, 0, 0, 0, 0, 0, 0, 0, 0, 0, 0, 0, 0, 0, 0, 0, 0,\n",
       "         0, 0, 0, 0, 0, 0, 0, 0, 0, 0, 0, 0, 0, 0, 1, 0, 0, 0, 0, 0, 0,\n",
       "         0, 0, 0, 0, 0, 0, 0, 0, 0, 0, 0, 0, 0, 0, 0, 0, 0, 0, 0, 0, 0,\n",
       "         0, 0, 0, 0, 0, 0, 0, 0, 0, 0, 0, 0, 0, 0, 0, 0, 0, 0, 0, 0, 0,\n",
       "         0, 0, 0, 0, 0, 0, 0, 0, 0, 0, 0, 0, 0, 0, 0, 0, 0, 0, 0, 0, 0,\n",
       "         0, 0, 0, 0, 0, 0, 0, 0, 0, 0, 0, 0, 0, 0, 0, 0, 0, 0, 0, 0, 0,\n",
       "         0, 0, 0, 0, 0, 0, 0, 0, 0, 0, 0, 0, 0, 0, 0, 0, 0, 0, 0, 0, 0,\n",
       "         0, 0, 0, 0, 0, 0, 0, 0, 0, 0, 0, 0, 0, 0, 0, 0, 0, 0, 0, 0, 0,\n",
       "         1, 0, 0, 0, 0, 0, 0, 0, 0, 0, 0, 0, 0, 0, 0, 0, 0, 0, 0, 0, 0,\n",
       "         0, 0, 0, 0, 0, 0, 0, 0, 0, 0, 0, 0, 0, 0, 0, 0, 0, 0, 0, 0, 0,\n",
       "         0, 0, 0, 0, 0, 0, 0, 0, 0, 0, 0, 0, 0, 0, 0, 0, 0, 0, 0, 0, 0,\n",
       "         0, 0, 0, 0, 0, 0, 0, 0, 0, 0, 0, 0, 0, 0, 0, 0, 0, 0, 0, 0, 0,\n",
       "         0, 0, 0, 0, 0, 0, 0, 0, 0, 0, 0, 0, 0, 0, 0, 0, 0, 0, 0, 0, 0,\n",
       "         0, 0, 0, 0, 0, 0, 0, 0, 0, 0, 0, 0, 0, 0, 0, 0, 0, 0, 0, 0, 0,\n",
       "         0, 0, 0, 0, 0, 0, 0, 0, 0, 0, 0, 0, 0, 0, 0, 0, 0, 0, 0, 0, 0,\n",
       "         0, 0, 0, 0, 0, 0, 0, 0, 0, 0, 0, 0, 0, 0, 0, 0, 0, 0, 0, 0, 0,\n",
       "         0, 0, 0, 0, 0, 0, 0, 0, 0, 0, 0, 0, 0, 0, 0, 0, 0, 0, 0, 0, 0,\n",
       "         0, 0, 0, 0, 0, 0, 0, 0, 0, 0, 0, 0, 0, 0, 0, 0, 0, 0, 0, 0, 0,\n",
       "         0, 0, 0, 0, 0, 0, 0, 0, 0, 0, 0, 0, 0, 0, 0, 0, 0, 0, 0, 0, 0,\n",
       "         0, 0, 0, 0, 0, 0, 0, 0, 0, 0, 1, 0, 0, 0, 0, 0, 0, 0, 0, 0, 0,\n",
       "         0, 0, 0, 0, 0, 0, 0, 0, 0, 0, 0, 0, 0, 0, 0, 0, 0, 0, 0, 0, 0,\n",
       "         0, 0, 0, 0, 0, 0, 0, 0, 0, 0, 0, 0, 0, 0, 0, 0, 0, 0, 0, 0, 0,\n",
       "         0, 0, 0, 0, 0, 0, 0, 0, 0, 0, 0, 0, 0, 0, 0, 0, 0]], dtype=int64)"
      ]
     },
     "execution_count": 43,
     "metadata": {},
     "output_type": "execute_result"
    }
   ],
   "source": [
    "X_train_enc[0].todense()"
   ]
  },
  {
   "cell_type": "markdown",
   "id": "f82aafa2",
   "metadata": {},
   "source": [
    "### Model Building"
   ]
  },
  {
   "cell_type": "code",
   "execution_count": 44,
   "id": "c6466ef0",
   "metadata": {
    "scrolled": true
   },
   "outputs": [],
   "source": [
    "#  pip install tensorflow"
   ]
  },
  {
   "cell_type": "code",
   "execution_count": 45,
   "id": "0b8f99d6",
   "metadata": {},
   "outputs": [],
   "source": [
    "from tensorflow.keras.models import Sequential\n",
    "from tensorflow.keras.layers import Dense, Dropout, Activation\n",
    "from tensorflow.keras import metrics\n",
    "from tensorflow.keras.utils import plot_model\n",
    "import pydot"
   ]
  },
  {
   "cell_type": "code",
   "execution_count": 46,
   "id": "c31b7a14",
   "metadata": {
    "scrolled": true
   },
   "outputs": [
    {
     "data": {
      "text/plain": [
       "[array([0, 1, 2], dtype=int64)]"
      ]
     },
     "execution_count": 46,
     "metadata": {},
     "output_type": "execute_result"
    }
   ],
   "source": [
    "y_enc.categories_"
   ]
  },
  {
   "cell_type": "code",
   "execution_count": 47,
   "id": "4a982fe1",
   "metadata": {
    "scrolled": false
   },
   "outputs": [
    {
     "name": "stdout",
     "output_type": "stream",
     "text": [
      "Number of sentiments: 3\n",
      "Building model...\n",
      "\n",
      "Model: \"sequential\"\n",
      "_________________________________________________________________\n",
      " Layer (type)                Output Shape              Param #   \n",
      "=================================================================\n",
      " dense (Dense)               (None, 512)               256512    \n",
      "                                                                 \n",
      " activation (Activation)     (None, 512)               0         \n",
      "                                                                 \n",
      " dropout (Dropout)           (None, 512)               0         \n",
      "                                                                 \n",
      " dense_1 (Dense)             (None, 512)               262656    \n",
      "                                                                 \n",
      " activation_1 (Activation)   (None, 512)               0         \n",
      "                                                                 \n",
      " dropout_1 (Dropout)         (None, 512)               0         \n",
      "                                                                 \n",
      " dense_2 (Dense)             (None, 3)                 1539      \n",
      "                                                                 \n",
      " activation_2 (Activation)   (None, 3)                 0         \n",
      "                                                                 \n",
      "=================================================================\n",
      "Total params: 520707 (1.99 MB)\n",
      "Trainable params: 520707 (1.99 MB)\n",
      "Non-trainable params: 0 (0.00 Byte)\n",
      "_________________________________________________________________\n",
      "None\n"
     ]
    }
   ],
   "source": [
    "from keras.callbacks import ModelCheckpoint\n",
    "\n",
    "# Calculate the number of sentiments\n",
    "nb_classes = len(y_enc.categories_[0])\n",
    "print(f'Number of sentiments: {nb_classes}')\n",
    "\n",
    "# Checkpoint - save the model's weights during training if the validation accuracy improves\n",
    "checkpoint= ModelCheckpoint(filepath='C:\\\\Users\\\\mario\\\\Downloads\\\\FFNN_model.h5',mode='max',\n",
    "                            monitor='val_accuracy',verbose=2,save_best_only=True)\n",
    "print('Building model...', end='\\n\\n')\n",
    "\n",
    "# Create a sequential model\n",
    "model = Sequential()\n",
    "\n",
    "# Add a dense layer (MLP) with input shape\n",
    "model.add(Dense(512, input_shape=(max_words,)))\n",
    "model.add(Activation('relu'))\n",
    "model.add(Dropout(rate=0.4))\n",
    "\n",
    "# Add another dense layer (MLP)\n",
    "model.add(Dense(512))\n",
    "model.add(Activation('relu'))\n",
    "model.add(Dropout(rate=0.4))\n",
    "\n",
    "# Add a dense layer for classification\n",
    "model.add(Dense(nb_classes))\n",
    "model.add(Activation('softmax'))\n",
    "\n",
    "# Print model summary\n",
    "print(model.summary())\n"
   ]
  },
  {
   "cell_type": "code",
   "execution_count": 48,
   "id": "1e76e6bf",
   "metadata": {},
   "outputs": [],
   "source": [
    "model.compile(loss='categorical_crossentropy',\n",
    "              optimizer='adam',\n",
    "              metrics=['accuracy']\n",
    "              )"
   ]
  },
  {
   "cell_type": "markdown",
   "id": "cd63adc1",
   "metadata": {},
   "source": [
    "### Fitting the Model"
   ]
  },
  {
   "cell_type": "code",
   "execution_count": 49,
   "id": "be41d38b",
   "metadata": {
    "scrolled": false
   },
   "outputs": [
    {
     "name": "stdout",
     "output_type": "stream",
     "text": [
      "Epoch 1/10\n",
      "\n",
      "Epoch 1: val_accuracy improved from -inf to 0.67355, saving model to C:\\Users\\mario\\Downloads\\FFNN_model.h5\n",
      "318/318 - 5s - loss: 0.8760 - accuracy: 0.6386 - val_loss: 0.7349 - val_accuracy: 0.6735 - 5s/epoch - 17ms/step\n",
      "Epoch 2/10\n"
     ]
    },
    {
     "name": "stderr",
     "output_type": "stream",
     "text": [
      "C:\\Users\\mario\\anaconda3\\lib\\site-packages\\keras\\src\\engine\\training.py:3000: UserWarning: You are saving your model as an HDF5 file via `model.save()`. This file format is considered legacy. We recommend using instead the native Keras format, e.g. `model.save('my_model.keras')`.\n",
      "  saving_api.save_model(\n"
     ]
    },
    {
     "name": "stdout",
     "output_type": "stream",
     "text": [
      "\n",
      "Epoch 2: val_accuracy improved from 0.67355 to 0.76004, saving model to C:\\Users\\mario\\Downloads\\FFNN_model.h5\n",
      "318/318 - 4s - loss: 0.7336 - accuracy: 0.6785 - val_loss: 0.6511 - val_accuracy: 0.7600 - 4s/epoch - 12ms/step\n",
      "Epoch 3/10\n",
      "\n",
      "Epoch 3: val_accuracy did not improve from 0.76004\n",
      "318/318 - 4s - loss: 0.6385 - accuracy: 0.7081 - val_loss: 0.7797 - val_accuracy: 0.6959 - 4s/epoch - 12ms/step\n",
      "Epoch 4/10\n",
      "\n",
      "Epoch 4: val_accuracy did not improve from 0.76004\n",
      "318/318 - 4s - loss: 0.5670 - accuracy: 0.7344 - val_loss: 0.7438 - val_accuracy: 0.6975 - 4s/epoch - 12ms/step\n"
     ]
    }
   ],
   "source": [
    "import tensorflow as tf\n",
    "\n",
    "# Create an EarlyStopping callback - if it doesn't improve for 2 consecutive epochs, the training will stop early.\n",
    "early_stopping = tf.keras.callbacks.EarlyStopping(monitor='val_accuracy', patience=2)\n",
    "\n",
    "# Use the callbacks during model training\n",
    "callbacks = [early_stopping, checkpoint]  # Combine the two callbacks into a list\n",
    "\n",
    "history = model.fit(x=X_train_enc.todense(),\n",
    "                    y=y_train_enc,\n",
    "                    batch_size=32,\n",
    "                    epochs=10,\n",
    "                    verbose=2,\n",
    "                    validation_data=(X_val_enc.todense(), y_val_enc),\n",
    "                    callbacks=callbacks, \n",
    "                    class_weight={0: 0.43444202, 1: 3.26859903,2: 2.54935946}\n",
    "                    )"
   ]
  },
  {
   "cell_type": "markdown",
   "id": "ff08481c",
   "metadata": {},
   "source": [
    "### Plot Loss and Accuracy"
   ]
  },
  {
   "cell_type": "code",
   "execution_count": 50,
   "id": "ca9a6d6d",
   "metadata": {},
   "outputs": [],
   "source": [
    "def plot_keras_history(history):\n",
    "    \"\"\"\n",
    "    \n",
    "    :param history: \n",
    "    :return: \n",
    "    \"\"\"\n",
    "    # the history object gives the metrics keys. \n",
    "    # we will store the metrics keys that are from the training sesion.\n",
    "    metrics_names = [key for key in history.history.keys() if not key.startswith('val_')]\n",
    "\n",
    "    for i, metric in enumerate(metrics_names):\n",
    "        \n",
    "        # getting the training values\n",
    "        metric_train_values = history.history.get(metric, [])\n",
    "        \n",
    "        # getting the validation values\n",
    "        metric_val_values = history.history.get(\"val_{}\".format(metric), [])\n",
    "\n",
    "        # As loss always exists as a metric we use it to find the \n",
    "        epochs = range(1, len(metric_train_values) + 1)\n",
    "        \n",
    "        # leaving extra spaces to allign with the validation text\n",
    "        training_text = \"   Training {}: {:.5f}\".format(metric,\n",
    "                                                        metric_train_values[-1])\n",
    "\n",
    "        # metric\n",
    "        plt.figure(i, figsize=(6, 6))\n",
    "\n",
    "        plt.plot(epochs,\n",
    "                 metric_train_values,\n",
    "                 'b',\n",
    "                 label=training_text)\n",
    "        \n",
    "        # if we validation metric exists, then plot that as well\n",
    "        if metric_val_values:\n",
    "            validation_text = \"Validation {}: {:.5f}\".format(metric,\n",
    "                                                             metric_val_values[-1])\n",
    "\n",
    "            plt.plot(epochs,\n",
    "                     metric_val_values,\n",
    "                     'g',\n",
    "                     label=validation_text)\n",
    "        \n",
    "        # add title, xlabel, ylabe, and legend\n",
    "        plt.title('Model Metric: {}'.format(metric))\n",
    "        plt.xlabel('Epochs')\n",
    "        plt.ylabel(metric.title())\n",
    "        plt.legend()\n",
    "\n",
    "    plt.show()"
   ]
  },
  {
   "cell_type": "code",
   "execution_count": 51,
   "id": "ac3cef95",
   "metadata": {
    "scrolled": false
   },
   "outputs": [
    {
     "data": {
      "image/png": "[encoded data removed]",
      "text/plain": [
       "<Figure size 600x600 with 1 Axes>"
      ]
     },
     "metadata": {},
     "output_type": "display_data"
    },
    {
     "data": {
      "image/png": "[encoded data removed]",
      "text/plain": [
       "<Figure size 600x600 with 1 Axes>"
      ]
     },
     "metadata": {},
     "output_type": "display_data"
    }
   ],
   "source": [
    "plot_keras_history(history) #το validation set κανει overfit"
   ]
  },
  {
   "cell_type": "markdown",
   "id": "4540b5fb",
   "metadata": {},
   "source": [
    "### AUC"
   ]
  },
  {
   "cell_type": "code",
   "execution_count": 52,
   "id": "91e08f60",
   "metadata": {},
   "outputs": [
    {
     "name": "stdout",
     "output_type": "stream",
     "text": [
      "94/94 [==============================] - 0s 3ms/step\n"
     ]
    },
    {
     "data": {
      "text/plain": [
       "0.7928954697474749"
      ]
     },
     "execution_count": 52,
     "metadata": {},
     "output_type": "execute_result"
    }
   ],
   "source": [
    "from sklearn.metrics import roc_auc_score\n",
    "from sklearn.metrics import roc_curve, auc\n",
    "from scipy import interp\n",
    "from itertools import cycle\n",
    "\n",
    "#AUC\n",
    "y_predicted = model.predict(X_test_enc)\n",
    "roc_auc_score(y_test_enc,y_predicted) "
   ]
  },
  {
   "cell_type": "code",
   "execution_count": 53,
   "id": "1724165b",
   "metadata": {},
   "outputs": [
    {
     "data": {
      "image/png": "[encoded data removed]",
      "text/plain": [
       "<Figure size 1000x700 with 1 Axes>"
      ]
     },
     "metadata": {},
     "output_type": "display_data"
    }
   ],
   "source": [
    "# Compute ROC curve and ROC area for each class\n",
    "fpr = dict()\n",
    "tpr = dict()\n",
    "roc_auc_dict = dict()\n",
    "\n",
    "for i in range(nb_classes): \n",
    "    fpr[i], tpr[i], _ = roc_curve(y_test_enc[:, i], y_predicted[:, i])\n",
    "    roc_auc_dict[i] = auc(fpr[i], tpr[i])\n",
    "\n",
    "# Compute micro-average ROC curve and ROC area\n",
    "fpr[\"micro\"], tpr[\"micro\"], _ = roc_curve(y_test_enc.ravel(), y_predicted.ravel())\n",
    "roc_auc_dict[\"micro\"] = auc(fpr[\"micro\"], tpr[\"micro\"])\n",
    "\n",
    "# Plot ROC curves for each class\n",
    "plt.figure(figsize=(10, 7))\n",
    "colors = cycle(['aqua', 'darkorange', 'magenta'])\n",
    "\n",
    "for i, color in zip(range(nb_classes), colors):\n",
    "    plt.plot(fpr[i], tpr[i], color=color, lw=2,\n",
    "             label='ROC curve of class {0} (AUC = {1:.2f})'.format(i, roc_auc_dict[i]))\n",
    "\n",
    "plt.plot([0, 1], [0, 1], 'k--', lw=2)\n",
    "plt.xlim([0.0, 1.0])\n",
    "plt.ylim([0.0, 1.05])\n",
    "plt.xlabel('False Positive Rate')\n",
    "plt.ylabel('True Positive Rate')\n",
    "plt.title('Receiver Operating Characteristic')\n",
    "plt.legend(loc=\"lower right\")\n",
    "plt.show()"
   ]
  },
  {
   "cell_type": "code",
   "execution_count": 54,
   "id": "18ae79ea",
   "metadata": {},
   "outputs": [],
   "source": [
    "import keras\n",
    "Model_MLP = keras.models.load_model('C:\\\\Users\\\\mario\\\\Downloads\\\\FFNN_model.h5') #importing the model from the checkpoint"
   ]
  },
  {
   "cell_type": "code",
   "execution_count": 55,
   "id": "c6bf0437",
   "metadata": {},
   "outputs": [
    {
     "data": {
      "text/plain": [
       "2606"
      ]
     },
     "execution_count": 55,
     "metadata": {},
     "output_type": "execute_result"
    }
   ],
   "source": [
    "# saving the model to json format\n",
    "open('model_FFNN.json', 'w').write(model.to_json())"
   ]
  },
  {
   "cell_type": "code",
   "execution_count": 56,
   "id": "6c64ad53",
   "metadata": {},
   "outputs": [],
   "source": [
    "# saving the weights of the model separately\n",
    "model.save_weights('weights_Model1.h5')"
   ]
  },
  {
   "cell_type": "markdown",
   "id": "349fbbb1",
   "metadata": {},
   "source": [
    "### Model Evaluation"
   ]
  },
  {
   "cell_type": "code",
   "execution_count": 57,
   "id": "8251375b",
   "metadata": {},
   "outputs": [
    {
     "name": "stdout",
     "output_type": "stream",
     "text": [
      "94/94 - 1s - loss: 0.7475 - accuracy: 0.6946 - 507ms/epoch - 5ms/step\n"
     ]
    }
   ],
   "source": [
    "# evaluate and store on score variable on the Test dataset\n",
    "score = model.evaluate(X_test_enc.todense(), y_test_enc,\n",
    "                       batch_size=32,\n",
    "                       verbose=2\n",
    "                      )"
   ]
  },
  {
   "cell_type": "code",
   "execution_count": 58,
   "id": "7bd72e37",
   "metadata": {},
   "outputs": [
    {
     "name": "stdout",
     "output_type": "stream",
     "text": [
      "\n",
      "Test categorical_crossentropy: 74.752 %\n",
      "\n",
      "Test accuracy: 69.457 %\n"
     ]
    }
   ],
   "source": [
    "print('\\nTest categorical_crossentropy: {:.3f} %'.format(score[0]*100))\n",
    "print('\\nTest accuracy: {:.3f} %'.format(score[1]*100))"
   ]
  },
  {
   "cell_type": "markdown",
   "id": "24eb9676",
   "metadata": {},
   "source": [
    "### Model Prediction"
   ]
  },
  {
   "cell_type": "code",
   "execution_count": 59,
   "id": "34dfed85",
   "metadata": {},
   "outputs": [
    {
     "name": "stdout",
     "output_type": "stream",
     "text": [
      "94/94 [==============================] - 0s 3ms/step\n"
     ]
    },
    {
     "data": {
      "text/plain": [
       "array([[0.6227425 , 0.20279303, 0.17446452],\n",
       "       [0.39476368, 0.42434135, 0.18089502],\n",
       "       [0.2355648 , 0.28128478, 0.48315045],\n",
       "       ...,\n",
       "       [0.68911844, 0.27855864, 0.03232284],\n",
       "       [0.2456289 , 0.29035836, 0.46401274],\n",
       "       [0.6325733 , 0.34438145, 0.02304518]], dtype=float32)"
      ]
     },
     "execution_count": 59,
     "metadata": {},
     "output_type": "execute_result"
    }
   ],
   "source": [
    "# Use to yield probability distribution over the categories\n",
    "y_test_pred_probs = model.predict(X_test_enc)\n",
    "y_test_pred_probs"
   ]
  },
  {
   "cell_type": "code",
   "execution_count": 60,
   "id": "548c7e53",
   "metadata": {},
   "outputs": [
    {
     "data": {
      "text/plain": [
       "(2986, 3)"
      ]
     },
     "execution_count": 60,
     "metadata": {},
     "output_type": "execute_result"
    }
   ],
   "source": [
    "y_test_pred_probs.shape"
   ]
  },
  {
   "cell_type": "code",
   "execution_count": 61,
   "id": "dd144143",
   "metadata": {},
   "outputs": [
    {
     "name": "stdout",
     "output_type": "stream",
     "text": [
      "94/94 [==============================] - 0s 3ms/step\n"
     ]
    },
    {
     "data": {
      "text/plain": [
       "array([0, 1, 2, 0, 0, 1, 0, 2, 0, 0, 2, 0, 2, 0, 0, 0, 0, 0, 0, 0, 1, 0,\n",
       "       0, 0, 0, 0, 0, 0, 0, 2, 2, 1, 0, 0, 2, 2, 2, 2, 1, 1, 2, 1, 0, 2,\n",
       "       0, 0, 1, 0, 0, 2], dtype=int64)"
      ]
     },
     "execution_count": 61,
     "metadata": {},
     "output_type": "execute_result"
    }
   ],
   "source": [
    "# Use to yield the predicted classes.\n",
    "\n",
    "y_test_preds = np.argmax(model.predict(X_test_enc), axis=-1)\n",
    "\n",
    "y_test_preds[:50]"
   ]
  },
  {
   "cell_type": "code",
   "execution_count": 62,
   "id": "7abdd3e9",
   "metadata": {},
   "outputs": [],
   "source": [
    "# custom prediction function \n",
    "def get_one_hot_predictions(pred_probs):\n",
    "    \"\"\"\n",
    "    \"\"\"\n",
    "    max_probs = np.max(pred_probs, axis=1)\n",
    "    \n",
    "    # reshaping to (len_of_predicts, 1)\n",
    "    max_probs = max_probs.reshape(max_probs.shape[0], 1)\n",
    "\n",
    "    return np.equal(pred_probs, max_probs).astype(float)"
   ]
  },
  {
   "cell_type": "code",
   "execution_count": 63,
   "id": "871eee4a",
   "metadata": {
    "scrolled": true
   },
   "outputs": [
    {
     "data": {
      "text/plain": [
       "array([[1., 0., 0.],\n",
       "       [0., 1., 0.],\n",
       "       [0., 0., 1.],\n",
       "       ...,\n",
       "       [1., 0., 0.],\n",
       "       [0., 0., 1.],\n",
       "       [1., 0., 0.]])"
      ]
     },
     "execution_count": 63,
     "metadata": {},
     "output_type": "execute_result"
    }
   ],
   "source": [
    "y_test_pred = get_one_hot_predictions(y_test_pred_probs)\n",
    "y_test_pred"
   ]
  },
  {
   "cell_type": "code",
   "execution_count": 64,
   "id": "8af68ab6",
   "metadata": {},
   "outputs": [
    {
     "data": {
      "text/plain": [
       "array([0, 1, 2, 0, 0, 1, 0, 2, 0, 0, 2, 0, 2, 0, 0, 0, 0, 0, 0, 0, 1, 0,\n",
       "       0, 0, 0, 0, 0, 0, 0, 2, 2, 1, 0, 0, 2, 2, 2, 2, 1, 1], dtype=int64)"
      ]
     },
     "execution_count": 64,
     "metadata": {},
     "output_type": "execute_result"
    }
   ],
   "source": [
    "# Now, we will use the fitted One Hot Encoder to Inverse Tranform the ouput\n",
    "y_test_pred_sentiment = y_enc.inverse_transform(y_test_pred).flatten()\n",
    "y_test_pred_sentiment[:40]"
   ]
  },
  {
   "cell_type": "markdown",
   "id": "5c2615b8",
   "metadata": {},
   "source": [
    "### Confusion Matrix"
   ]
  },
  {
   "cell_type": "code",
   "execution_count": 65,
   "id": "db7a36bd",
   "metadata": {},
   "outputs": [
    {
     "name": "stderr",
     "output_type": "stream",
     "text": [
      "C:\\Users\\mario\\anaconda3\\lib\\site-packages\\matplotlib\\text.py:1223: FutureWarning: elementwise comparison failed; returning scalar instead, but in the future will perform elementwise comparison\n",
      "  if s != self._text:\n"
     ]
    },
    {
     "data": {
      "image/png": "[encoded data removed]",
      "text/plain": [
       "<Figure size 800x600 with 2 Axes>"
      ]
     },
     "metadata": {},
     "output_type": "display_data"
    }
   ],
   "source": [
    "import seaborn as sns\n",
    "import matplotlib.pyplot as plt\n",
    "from sklearn.metrics import confusion_matrix, classification_report\n",
    "\n",
    "conf_mat = confusion_matrix(y_true=y_test,\n",
    "                            y_pred=y_test_pred_sentiment)\n",
    "\n",
    "plt.figure(figsize=(8, 6))\n",
    "sns.heatmap(conf_mat, annot=True, fmt='d', cmap='Blues',\n",
    "            xticklabels=y_enc.categories_,\n",
    "            yticklabels=y_enc.categories_)\n",
    "plt.title('Confusion Matrix')\n",
    "plt.xlabel('Predicted')\n",
    "plt.ylabel('True')\n",
    "plt.show()\n"
   ]
  },
  {
   "cell_type": "code",
   "execution_count": 66,
   "id": "e1ae67e5",
   "metadata": {},
   "outputs": [
    {
     "name": "stdout",
     "output_type": "stream",
     "text": [
      "              precision    recall  f1-score   support\n",
      "\n",
      "           0       0.92      0.73      0.82      2291\n",
      "           1       0.19      0.34      0.24       304\n",
      "           2       0.46      0.74      0.57       391\n",
      "\n",
      "    accuracy                           0.69      2986\n",
      "   macro avg       0.52      0.60      0.54      2986\n",
      "weighted avg       0.79      0.69      0.73      2986\n",
      "\n"
     ]
    }
   ],
   "source": [
    "print(classification_report(y_true=y_test,\n",
    "                            y_pred=y_test_pred_sentiment))"
   ]
  }
 ],
 "metadata": {
  "kernelspec": {
   "display_name": "Python 3 (ipykernel)",
   "language": "python",
   "name": "python3"
  },
  "language_info": {
   "codemirror_mode": {
    "name": "ipython",
    "version": 3
   },
   "file_extension": ".py",
   "mimetype": "text/x-python",
   "name": "python",
   "nbconvert_exporter": "python",
   "pygments_lexer": "ipython3",
   "version": "3.9.13"
  }
 },
 "nbformat": 4,
 "nbformat_minor": 5
}
